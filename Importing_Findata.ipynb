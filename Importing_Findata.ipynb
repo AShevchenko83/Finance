{
 "cells": [
  {
   "cell_type": "code",
   "execution_count": 1,
   "id": "439f32db-0a71-4216-b788-b5571413fc4c",
   "metadata": {},
   "outputs": [
    {
     "name": "stdout",
     "output_type": "stream",
     "text": [
      "  Stock Symbol   Company Name  Last Sale  Market Capitalization IPO Year  \\\n",
      "0         AAPL     Apple Inc.     141.05           7.400000e+11     1980   \n",
      "1        GOOGL  Alphabet Inc.     840.18           5.810000e+11      NAN   \n",
      "\n",
      "       Sector                                         Industry Last Update  \n",
      "0  Technology                           Computer Manufacturing     4/26/17  \n",
      "1  Technology  Computer Software: Programming, Data Processing     4/24/17  \n",
      "<class 'pandas.core.frame.DataFrame'>\n",
      "RangeIndex: 1115 entries, 0 to 1114\n",
      "Data columns (total 8 columns):\n",
      " #   Column                 Non-Null Count  Dtype  \n",
      "---  ------                 --------------  -----  \n",
      " 0   Stock Symbol           1115 non-null   object \n",
      " 1   Company Name           1115 non-null   object \n",
      " 2   Last Sale              1115 non-null   float64\n",
      " 3   Market Capitalization  1115 non-null   float64\n",
      " 4   IPO Year               1115 non-null   object \n",
      " 5   Sector                 1115 non-null   object \n",
      " 6   Industry               1115 non-null   object \n",
      " 7   Last Update            1115 non-null   object \n",
      "dtypes: float64(2), object(6)\n",
      "memory usage: 69.8+ KB\n"
     ]
    }
   ],
   "source": [
    "# Import pandas library\n",
    "import pandas as pd\n",
    "\n",
    "# Import the data\n",
    "nasdaq = pd.read_csv('nasdaq.csv')\n",
    "\n",
    "# Display first 10 rows\n",
    "print(nasdaq.head(2))\n",
    "\n",
    "# Inspect nasdaq\n",
    "nasdaq.info()"
   ]
  },
  {
   "cell_type": "code",
   "execution_count": 24,
   "id": "d6cabb91-6824-4a37-8760-231d3c75e41b",
   "metadata": {},
   "outputs": [
    {
     "name": "stdout",
     "output_type": "stream",
     "text": [
      "  Stock Symbol   Company Name  Last Sale  Market Capitalization  IPO Year  \\\n",
      "0         AAPL     Apple Inc.     141.05           7.400000e+11    1980.0   \n",
      "1        GOOGL  Alphabet Inc.     840.18           5.810000e+11       NaN   \n",
      "\n",
      "       Sector                                         Industry Last Update  \n",
      "0  Technology                           Computer Manufacturing  2017-04-26  \n",
      "1  Technology  Computer Software: Programming, Data Processing  2017-04-24  \n",
      "<class 'pandas.core.frame.DataFrame'>\n",
      "RangeIndex: 1115 entries, 0 to 1114\n",
      "Data columns (total 8 columns):\n",
      " #   Column                 Non-Null Count  Dtype         \n",
      "---  ------                 --------------  -----         \n",
      " 0   Stock Symbol           1115 non-null   object        \n",
      " 1   Company Name           1115 non-null   object        \n",
      " 2   Last Sale              1115 non-null   float64       \n",
      " 3   Market Capitalization  1115 non-null   float64       \n",
      " 4   IPO Year               593 non-null    float64       \n",
      " 5   Sector                 1036 non-null   object        \n",
      " 6   Industry               1036 non-null   object        \n",
      " 7   Last Update            1115 non-null   datetime64[ns]\n",
      "dtypes: datetime64[ns](1), float64(3), object(4)\n",
      "memory usage: 69.8+ KB\n"
     ]
    }
   ],
   "source": [
    "# Import the data again\n",
    "nasdaq = pd.read_csv('nasdaq.csv', na_values='NAN', parse_dates=['Last Update'])\n",
    "\n",
    "# Display the head of the data\n",
    "print(nasdaq.head(2))\n",
    "\n",
    "# Inspect the data\n",
    "nasdaq.info()"
   ]
  },
  {
   "cell_type": "code",
   "execution_count": 25,
   "id": "97704515-f9ad-453d-ac4e-a42906b1d70b",
   "metadata": {},
   "outputs": [
    {
     "name": "stdout",
     "output_type": "stream",
     "text": [
      "  Stock Symbol            Company Name  Last Sale  Market Capitalization  \\\n",
      "0          DDD  3D Systems Corporation      14.48           1.647165e+09   \n",
      "1          MMM              3M Company     188.65           1.127366e+11   \n",
      "\n",
      "   IPO Year       Sector                                 Industry  \n",
      "0       NaN   Technology  Computer Software: Prepackaged Software  \n",
      "1       NaN  Health Care               Medical/Dental Instruments  \n",
      "<class 'pandas.core.frame.DataFrame'>\n",
      "RangeIndex: 3147 entries, 0 to 3146\n",
      "Data columns (total 7 columns):\n",
      " #   Column                 Non-Null Count  Dtype  \n",
      "---  ------                 --------------  -----  \n",
      " 0   Stock Symbol           3147 non-null   object \n",
      " 1   Company Name           3147 non-null   object \n",
      " 2   Last Sale              3079 non-null   float64\n",
      " 3   Market Capitalization  3147 non-null   float64\n",
      " 4   IPO Year               1361 non-null   float64\n",
      " 5   Sector                 2177 non-null   object \n",
      " 6   Industry               2177 non-null   object \n",
      "dtypes: float64(3), object(4)\n",
      "memory usage: 172.2+ KB\n"
     ]
    },
    {
     "name": "stderr",
     "output_type": "stream",
     "text": [
      "C:\\Users\\olshevch\\anaconda3\\envs\\Python_3_7\\lib\\site-packages\\openpyxl\\worksheet\\_reader.py:312: UserWarning: Unknown extension is not supported and will be removed\n",
      "  warn(msg)\n"
     ]
    }
   ],
   "source": [
    "# Import the data\n",
    "nyse = pd.read_excel('listings.xlsx', sheet_name = 'nyse', na_values='n/a')\n",
    "\n",
    "# Display the head of the data\n",
    "print(nyse.head(2))\n",
    "\n",
    "# Inspect the data\n",
    "nyse.info()"
   ]
  },
  {
   "cell_type": "code",
   "execution_count": 26,
   "id": "33c55235-7e04-4e69-9f0b-23f8c63cd704",
   "metadata": {},
   "outputs": [
    {
     "name": "stderr",
     "output_type": "stream",
     "text": [
      "C:\\Users\\olshevch\\anaconda3\\envs\\Python_3_7\\lib\\site-packages\\openpyxl\\worksheet\\_reader.py:312: UserWarning: Unknown extension is not supported and will be removed\n",
      "  warn(msg)\n"
     ]
    },
    {
     "name": "stdout",
     "output_type": "stream",
     "text": [
      "<class 'pandas.core.frame.DataFrame'>\n",
      "RangeIndex: 3167 entries, 0 to 3166\n",
      "Data columns (total 7 columns):\n",
      " #   Column                 Non-Null Count  Dtype  \n",
      "---  ------                 --------------  -----  \n",
      " 0   Stock Symbol           3167 non-null   object \n",
      " 1   Company Name           3167 non-null   object \n",
      " 2   Last Sale              3165 non-null   float64\n",
      " 3   Market Capitalization  3167 non-null   float64\n",
      " 4   IPO Year               1386 non-null   float64\n",
      " 5   Sector                 2767 non-null   object \n",
      " 6   Industry               2767 non-null   object \n",
      "dtypes: float64(3), object(4)\n",
      "memory usage: 173.3+ KB\n"
     ]
    }
   ],
   "source": [
    "# Create pd.ExcelFile() object\n",
    "xls = pd.ExcelFile('listings.xlsx')\n",
    "\n",
    "# Extract sheet names and store in exchanges\n",
    "exchanges = xls.sheet_names\n",
    "\n",
    "# Create listings dictionary with all sheet data\n",
    "listings = pd.read_excel(xls, sheet_name=exchanges, na_values='n/a')\n",
    "\n",
    "# Inspect NASDAQ listings\n",
    "listings['nasdaq'].info()"
   ]
  },
  {
   "cell_type": "code",
   "execution_count": 27,
   "id": "6e4e082f-361d-43ce-9f33-fe2b074db772",
   "metadata": {},
   "outputs": [
    {
     "name": "stdout",
     "output_type": "stream",
     "text": [
      "<class 'pandas.core.frame.DataFrame'>\n",
      "RangeIndex: 3147 entries, 0 to 3146\n",
      "Data columns (total 7 columns):\n",
      " #   Column                 Non-Null Count  Dtype  \n",
      "---  ------                 --------------  -----  \n",
      " 0   Stock Symbol           3147 non-null   object \n",
      " 1   Company Name           3147 non-null   object \n",
      " 2   Last Sale              3079 non-null   float64\n",
      " 3   Market Capitalization  3147 non-null   float64\n",
      " 4   IPO Year               1361 non-null   float64\n",
      " 5   Sector                 2177 non-null   object \n",
      " 6   Industry               2177 non-null   object \n",
      "dtypes: float64(3), object(4)\n",
      "memory usage: 172.2+ KB\n",
      "<class 'pandas.core.frame.DataFrame'>\n",
      "RangeIndex: 3167 entries, 0 to 3166\n",
      "Data columns (total 7 columns):\n",
      " #   Column                 Non-Null Count  Dtype  \n",
      "---  ------                 --------------  -----  \n",
      " 0   Stock Symbol           3167 non-null   object \n",
      " 1   Company Name           3167 non-null   object \n",
      " 2   Last Sale              3165 non-null   float64\n",
      " 3   Market Capitalization  3167 non-null   float64\n",
      " 4   IPO Year               1386 non-null   float64\n",
      " 5   Sector                 2767 non-null   object \n",
      " 6   Industry               2767 non-null   object \n",
      "dtypes: float64(3), object(4)\n",
      "memory usage: 173.3+ KB\n"
     ]
    }
   ],
   "source": [
    "# Import the NYSE and NASDAQ listings\n",
    "nyse = pd.read_excel('listings.xlsx', sheet_name='nyse', na_values='n/a')\n",
    "nasdaq = pd.read_excel('listings.xlsx', sheet_name='nasdaq', na_values='n/a')\n",
    "\n",
    "# Inspect nyse and nasdaq\n",
    "nyse.info()\n",
    "nasdaq.info()\n",
    "\n",
    "# Add Exchange reference columns\n",
    "nyse['Exchange'] = 'NYSE'\n",
    "nasdaq['Exchange'] = 'NASDAQ'\n",
    "\n",
    "# Concatenate DataFrames  \n",
    "combined_listings = pd.concat([nyse, nasdaq]) "
   ]
  },
  {
   "cell_type": "code",
   "execution_count": 28,
   "id": "9e95d08b-9d26-4289-bfdb-1cc87869b95d",
   "metadata": {},
   "outputs": [
    {
     "name": "stdout",
     "output_type": "stream",
     "text": [
      "<class 'pandas.core.frame.DataFrame'>\n",
      "Int64Index: 6674 entries, 0 to 3146\n",
      "Data columns (total 8 columns):\n",
      " #   Column                 Non-Null Count  Dtype  \n",
      "---  ------                 --------------  -----  \n",
      " 0   Stock Symbol           6674 non-null   object \n",
      " 1   Company Name           6674 non-null   object \n",
      " 2   Last Sale              6590 non-null   float64\n",
      " 3   Market Capitalization  6674 non-null   float64\n",
      " 4   IPO Year               2852 non-null   float64\n",
      " 5   Sector                 5182 non-null   object \n",
      " 6   Industry               5182 non-null   object \n",
      " 7   Exchange               6674 non-null   object \n",
      "dtypes: float64(3), object(5)\n",
      "memory usage: 469.3+ KB\n"
     ]
    }
   ],
   "source": [
    "# Create the pd.ExcelFile() object\n",
    "xls = pd.ExcelFile('listings.xlsx')\n",
    "\n",
    "# Extract the sheet names from xls\n",
    "exchanges = xls.sheet_names\n",
    "\n",
    "# Create an empty list: listings\n",
    "listings = []\n",
    "\n",
    "# Import the data\n",
    "for exchange in exchanges:\n",
    "    listing = pd.read_excel(xls, sheet_name=exchange, na_values='n/a')\n",
    "    listing['Exchange'] = exchange\n",
    "    listings.append(listing)\n",
    "\n",
    "# Concatenate the listings: listing_data\n",
    "listing_data = pd.concat(listings)\n",
    "\n",
    "# Inspect the results\n",
    "listing_data.info()"
   ]
  },
  {
   "cell_type": "code",
   "execution_count": null,
   "id": "9dfd3936-d4ea-45a8-912e-2f13644504b7",
   "metadata": {},
   "outputs": [],
   "source": [
    "#############################################################################"
   ]
  },
  {
   "cell_type": "code",
   "execution_count": 15,
   "id": "13c15b74-4860-4f74-a759-6790803bf0d5",
   "metadata": {},
   "outputs": [
    {
     "name": "stdout",
     "output_type": "stream",
     "text": [
      "               open     high      low    close       volume\n",
      "date                                                       \n",
      "2016-01-04  25.6525  26.3420  25.5000  26.3375  270597548.0\n",
      "2016-01-05  26.4375  26.4625  25.6025  25.6775  223163968.0\n",
      "2016-01-06  25.1400  25.5925  24.9675  25.1750  273829552.0\n",
      "2016-01-07  24.6700  25.0325  24.1075  24.1125  324377712.0\n",
      "2016-01-08  24.6375  24.7775  24.1900  24.2400  283192064.0\n",
      "<class 'pandas.core.frame.DataFrame'>\n",
      "Index: 252 entries, 2016-01-04 to 2016-12-30\n",
      "Data columns (total 5 columns):\n",
      " #   Column  Non-Null Count  Dtype  \n",
      "---  ------  --------------  -----  \n",
      " 0   open    252 non-null    float64\n",
      " 1   high    252 non-null    float64\n",
      " 2   low     252 non-null    float64\n",
      " 3   close   252 non-null    float64\n",
      " 4   volume  252 non-null    float64\n",
      "dtypes: float64(5)\n",
      "memory usage: 11.8+ KB\n"
     ]
    }
   ],
   "source": [
    "# Import DataReader\n",
    "from pandas_datareader.data import DataReader\n",
    "import os\n",
    "\n",
    "# Import date\n",
    "from datetime import date\n",
    "\n",
    "os.environ[\"IEX_API_KEY\"] = \"pk_9865310cc02c40f386056115653ad774\" \n",
    "\n",
    "# Set start and end dates\n",
    "start = date(2016,1,1)\n",
    "end = date(2016,12,31)\n",
    "\n",
    "# Set the ticker\n",
    "ticker = 'AAPL'\n",
    "\n",
    "# Set the data source\n",
    "data_source = 'iex'\n",
    "\n",
    "# Import the stock prices\n",
    "stock_prices = DataReader(ticker, data_source,start, end)\n",
    "\n",
    "# Display and inspect the result\n",
    "print(stock_prices.head())\n",
    "stock_prices.info()"
   ]
  },
  {
   "cell_type": "code",
   "execution_count": 18,
   "id": "166c7e65-952c-44db-b453-a893a92c08a7",
   "metadata": {},
   "outputs": [
    {
     "data": {
      "image/png": "[encoded data removed]",
      "text/plain": [
       "<Figure size 432x288 with 1 Axes>"
      ]
     },
     "metadata": {
      "needs_background": "light"
     },
     "output_type": "display_data"
    }
   ],
   "source": [
    "# Import matplotlib.pyplot\n",
    "import matplotlib.pyplot as plt\n",
    "\n",
    "\n",
    "# Plot close\n",
    "stock_prices['close'].plot(title = ticker)\n",
    "\n",
    "# Show the plot\n",
    "plt.show()"
   ]
  },
  {
   "cell_type": "code",
   "execution_count": 19,
   "id": "ae590555-c069-4e10-8b07-ea507da80a25",
   "metadata": {},
   "outputs": [
    {
     "name": "stdout",
     "output_type": "stream",
     "text": [
      "<class 'pandas.core.frame.DataFrame'>\n",
      "DatetimeIndex: 13976 entries, 1968-04-01 to 2021-10-25\n",
      "Data columns (total 1 columns):\n",
      " #   Column            Non-Null Count  Dtype  \n",
      "---  ------            --------------  -----  \n",
      " 0   GOLDAMGBD228NLBM  13544 non-null  float64\n",
      "dtypes: float64(1)\n",
      "memory usage: 218.4 KB\n"
     ]
    },
    {
     "data": {
      "image/png": "[encoded data removed]",
      "text/plain": [
       "<Figure size 432x288 with 1 Axes>"
      ]
     },
     "metadata": {
      "needs_background": "light"
     },
     "output_type": "display_data"
    }
   ],
   "source": [
    "# Set start date\n",
    "start = date(1968, 1,1)\n",
    "\n",
    "# Set series code\n",
    "series = 'GOLDAMGBD228NLBM'\n",
    "\n",
    "# Import the data\n",
    "gold_price = DataReader(series, 'fred', start=start)\n",
    "\n",
    "# Inspect the price of gold\n",
    "gold_price.info()\n",
    "\n",
    "# Plot the price of gold\n",
    "gold_price.plot(title = 'Gold Price')\n",
    "\n",
    "# Show the plot\n",
    "plt.show()"
   ]
  },
  {
   "cell_type": "code",
   "execution_count": 20,
   "id": "a9558bc5-48a8-4cb0-91a5-d4a257387047",
   "metadata": {},
   "outputs": [
    {
     "data": {
      "image/png": "[encoded data removed]",
      "text/plain": [
       "<Figure size 432x288 with 2 Axes>"
      ]
     },
     "metadata": {
      "needs_background": "light"
     },
     "output_type": "display_data"
    }
   ],
   "source": [
    "# Set the start date\n",
    "start = date(1950, 1,1)\n",
    "\n",
    "# Define the series codes\n",
    "series = ['UNRATE', 'CIVPART']\n",
    "\n",
    "# Import the data\n",
    "econ_data = DataReader(series, 'fred', start = start)\n",
    "\n",
    "# Assign new column labels\n",
    "econ_data.columns = ['Unemployment Rate', 'Participation Rate']\n",
    "\n",
    "# Plot econ_data\n",
    "econ_data.plot(title = 'Labor Market', subplots=True)\n",
    "\n",
    "# Show the plot\n",
    "plt.show()"
   ]
  },
  {
   "cell_type": "code",
   "execution_count": 21,
   "id": "f7b1d914-cf07-485e-b340-1054598e1084",
   "metadata": {},
   "outputs": [
    {
     "data": {
      "image/png": "[encoded data removed]",
      "text/plain": [
       "<Figure size 432x288 with 2 Axes>"
      ]
     },
     "metadata": {
      "needs_background": "light"
     },
     "output_type": "display_data"
    }
   ],
   "source": [
    "# Set the start date\n",
    "start = date(2008, 1,1)\n",
    "\n",
    "# Set the series codes\n",
    "series = ['BAMLHYH0A0HYM2TRIV', 'SP500']\n",
    "\n",
    "# Import the data\n",
    "data = DataReader(series, 'fred', start = start)\n",
    "\n",
    "# Plot the results\n",
    "data.plot(title = 'Performance Comparison', subplots = True)\n",
    "\n",
    "# Show the plot\n",
    "plt.show()"
   ]
  },
  {
   "cell_type": "code",
   "execution_count": 32,
   "id": "9e27dcff-16b4-41e4-94c4-8aac403df24d",
   "metadata": {},
   "outputs": [
    {
     "data": {
      "text/html": [
       "<div>\n",
       "<style scoped>\n",
       "    .dataframe tbody tr th:only-of-type {\n",
       "        vertical-align: middle;\n",
       "    }\n",
       "\n",
       "    .dataframe tbody tr th {\n",
       "        vertical-align: top;\n",
       "    }\n",
       "\n",
       "    .dataframe thead th {\n",
       "        text-align: right;\n",
       "    }\n",
       "</style>\n",
       "<table border=\"1\" class=\"dataframe\">\n",
       "  <thead>\n",
       "    <tr style=\"text-align: right;\">\n",
       "      <th></th>\n",
       "      <th>Stock Symbol</th>\n",
       "      <th>Company Name</th>\n",
       "      <th>Last Sale</th>\n",
       "      <th>Market Capitalization</th>\n",
       "      <th>IPO Year</th>\n",
       "      <th>Sector</th>\n",
       "      <th>Industry</th>\n",
       "      <th>Exchange</th>\n",
       "    </tr>\n",
       "  </thead>\n",
       "  <tbody>\n",
       "    <tr>\n",
       "      <th>0</th>\n",
       "      <td>DDD</td>\n",
       "      <td>3D Systems Corporation</td>\n",
       "      <td>14.48</td>\n",
       "      <td>1.647165e+09</td>\n",
       "      <td>NaN</td>\n",
       "      <td>Technology</td>\n",
       "      <td>Computer Software: Prepackaged Software</td>\n",
       "      <td>NYSE</td>\n",
       "    </tr>\n",
       "    <tr>\n",
       "      <th>1</th>\n",
       "      <td>MMM</td>\n",
       "      <td>3M Company</td>\n",
       "      <td>188.65</td>\n",
       "      <td>1.127366e+11</td>\n",
       "      <td>NaN</td>\n",
       "      <td>Health Care</td>\n",
       "      <td>Medical/Dental Instruments</td>\n",
       "      <td>NYSE</td>\n",
       "    </tr>\n",
       "    <tr>\n",
       "      <th>2</th>\n",
       "      <td>WBAI</td>\n",
       "      <td>500.com Limited</td>\n",
       "      <td>13.96</td>\n",
       "      <td>5.793129e+08</td>\n",
       "      <td>2013.0</td>\n",
       "      <td>Consumer Services</td>\n",
       "      <td>Services-Misc. Amusement &amp; Recreation</td>\n",
       "      <td>NYSE</td>\n",
       "    </tr>\n",
       "    <tr>\n",
       "      <th>3</th>\n",
       "      <td>WUBA</td>\n",
       "      <td>58.com Inc.</td>\n",
       "      <td>36.11</td>\n",
       "      <td>5.225238e+09</td>\n",
       "      <td>2013.0</td>\n",
       "      <td>Technology</td>\n",
       "      <td>Computer Software: Programming, Data Processing</td>\n",
       "      <td>NYSE</td>\n",
       "    </tr>\n",
       "    <tr>\n",
       "      <th>4</th>\n",
       "      <td>AHC</td>\n",
       "      <td>A.H. Belo Corporation</td>\n",
       "      <td>6.20</td>\n",
       "      <td>1.347351e+08</td>\n",
       "      <td>NaN</td>\n",
       "      <td>Consumer Services</td>\n",
       "      <td>Newspapers/Magazines</td>\n",
       "      <td>NYSE</td>\n",
       "    </tr>\n",
       "  </tbody>\n",
       "</table>\n",
       "</div>"
      ],
      "text/plain": [
       "  Stock Symbol            Company Name  Last Sale  Market Capitalization  \\\n",
       "0          DDD  3D Systems Corporation      14.48           1.647165e+09   \n",
       "1          MMM              3M Company     188.65           1.127366e+11   \n",
       "2         WBAI         500.com Limited      13.96           5.793129e+08   \n",
       "3         WUBA             58.com Inc.      36.11           5.225238e+09   \n",
       "4          AHC   A.H. Belo Corporation       6.20           1.347351e+08   \n",
       "\n",
       "   IPO Year             Sector  \\\n",
       "0       NaN         Technology   \n",
       "1       NaN        Health Care   \n",
       "2    2013.0  Consumer Services   \n",
       "3    2013.0         Technology   \n",
       "4       NaN  Consumer Services   \n",
       "\n",
       "                                          Industry Exchange  \n",
       "0          Computer Software: Prepackaged Software     NYSE  \n",
       "1                       Medical/Dental Instruments     NYSE  \n",
       "2            Services-Misc. Amusement & Recreation     NYSE  \n",
       "3  Computer Software: Programming, Data Processing     NYSE  \n",
       "4                             Newspapers/Magazines     NYSE  "
      ]
     },
     "execution_count": 32,
     "metadata": {},
     "output_type": "execute_result"
    }
   ],
   "source": [
    "listings = combined_listings\n",
    "listings.head()"
   ]
  },
  {
   "cell_type": "code",
   "execution_count": 33,
   "id": "7bf67701-2c8f-4d2a-863e-0170bd307265",
   "metadata": {},
   "outputs": [
    {
     "name": "stdout",
     "output_type": "stream",
     "text": [
      "                   Company Name Exchange  Market Capitalization\n",
      "4              Amazon.com, Inc.   NASDAQ           4.221385e+11\n",
      "3013      Wal-Mart Stores, Inc.     NYSE           2.218646e+11\n",
      "3014  Walt Disney Company (The)     NYSE           1.789973e+11\n",
      "6           Comcast Corporation   NASDAQ           1.764745e+11\n",
      "1438     Home Depot, Inc. (The)     NYSE           1.752626e+11\n"
     ]
    }
   ],
   "source": [
    "# Select companies in Consumer Services\n",
    "consumer_services = listings[listings.Sector == 'Consumer Services']\n",
    "\n",
    "# Sort consumer_services by market cap\n",
    "consumer_services2 = consumer_services.sort_values('Market Capitalization', ascending=False)\n",
    "\n",
    "# Display first 5 rows of designated columns\n",
    "print(consumer_services2[['Company Name', 'Exchange', 'Market Capitalization']].head())"
   ]
  },
  {
   "cell_type": "code",
   "execution_count": null,
   "id": "ffb7810e-a09c-4034-9936-f1cc0f6adb8f",
   "metadata": {},
   "outputs": [],
   "source": [
    "# Set the index of listings to Stock Symbol\n",
    "listings_ss = listings.set_index('Stock Symbol')\n",
    "\n",
    "# Get ticker of the largest Consumer Services company\n",
    "ticker = listings_ss.loc[listings_ss.Sector == 'Consumer Services', 'Market Capitalization'].idxmax()\n",
    "\n",
    "# Set the start date\n",
    "start = date(2015, 1,1)\n",
    "\n",
    "# Import the stock data\n",
    "data = DataReader(ticker, 'iex', start = start)\n",
    "\n",
    "# Plot close and volume\n",
    "data[['close', 'volume']].plot(secondary_y='volume', title=ticker)\n",
    "\n",
    "# Show the plot\n",
    "plt.show()"
   ]
  },
  {
   "cell_type": "code",
   "execution_count": null,
   "id": "be3b8f7c-9862-41c9-9cb7-a71f224501bb",
   "metadata": {},
   "outputs": [],
   "source": [
    "# Set Stock Symbol as the index\n",
    "listings = listings.set_index('Stock Symbol')\n",
    "\n",
    "# Get ticker of the largest consumer services company listed after 1997\n",
    "ticker = listings.loc[(listings.Sector == 'Consumer Services') & (listings['IPO Year'] > 1998), 'Market Capitalization'].idxmax()\n",
    "\n",
    "# Set the start date\n",
    "start = date(2015, 1, 1)\n",
    "\n",
    "# Import the stock data\n",
    "data = DataReader(ticker, 'iex', start)\n",
    "\n",
    "# Plot close and volume\n",
    "data[['close', 'volume']].plot(secondary_y='volume', title=ticker)\n",
    "\n",
    "# Show the plot\n",
    "plt.show()"
   ]
  },
  {
   "cell_type": "code",
   "execution_count": null,
   "id": "7f3b7985-4300-430a-97cc-2661a2d45c22",
   "metadata": {},
   "outputs": [],
   "source": [
    "#################################################################################"
   ]
  },
  {
   "cell_type": "code",
   "execution_count": 2,
   "id": "7101672b-443c-427a-8521-970e173b8246",
   "metadata": {},
   "outputs": [
    {
     "name": "stdout",
     "output_type": "stream",
     "text": [
      "<class 'pandas.core.frame.DataFrame'>\n",
      "RangeIndex: 184 entries, 0 to 183\n",
      "Data columns (total 2 columns):\n",
      " #   Column             Non-Null Count  Dtype  \n",
      "---  ------             --------------  -----  \n",
      " 0   Country            184 non-null    object \n",
      " 1   Income per Capita  184 non-null    float64\n",
      "dtypes: float64(1), object(1)\n",
      "memory usage: 3.0+ KB\n",
      "               Country  Income per Capita\n",
      "133              Qatar       141542.66280\n",
      "97    Macao SAR, China       111496.62940\n",
      "96          Luxembourg       102051.68030\n",
      "144          Singapore        85382.30227\n",
      "23   Brunei Darussalam        78369.29102\n",
      "                      Country  Income per Capita\n",
      "121                     Niger         955.483324\n",
      "94                    Liberia         835.366935\n",
      "37           Congo, Dem. Rep.         784.365232\n",
      "26                    Burundi         727.150789\n",
      "31   Central African Republic         618.752859\n"
     ]
    }
   ],
   "source": [
    "# Import the data\n",
    "income = pd.read_csv('per_capita_income.csv')\n",
    "\n",
    "# Inspect the result\n",
    "income.info()\n",
    "\n",
    "# Sort the data by income\n",
    "income = income.sort_values('Income per Capita', ascending = False)\n",
    "\n",
    "# Display the first and last five rows\n",
    "print(income.head())\n",
    "print(income.tail())"
   ]
  },
  {
   "cell_type": "code",
   "execution_count": 3,
   "id": "70a6c88b-49f0-46d8-aca5-28d62866bf98",
   "metadata": {},
   "outputs": [
    {
     "name": "stdout",
     "output_type": "stream",
     "text": [
      "19469.41956573694\n",
      "11620.93252\n"
     ]
    },
    {
     "data": {
      "text/plain": [
       "0    1.0\n",
       "dtype: float64"
      ]
     },
     "execution_count": 3,
     "metadata": {},
     "output_type": "execute_result"
    }
   ],
   "source": [
    "# Calculate the mean\n",
    "print(income['Income per Capita'].mean())\n",
    "\n",
    "# Calculate the median\n",
    "print(income['Income per Capita'].median())\n",
    "\n",
    "# Create the new column\n",
    "income['Income per Capita (,000)'] = income['Income per Capita'] // 1000\n",
    "\n",
    "# Calculate the mode of the new column\n",
    "income['Income per Capita (,000)'].mode()"
   ]
  },
  {
   "cell_type": "code",
   "execution_count": 5,
   "id": "02013ec4-9bc2-44b2-84dc-65772d887d87",
   "metadata": {},
   "outputs": [
    {
     "name": "stdout",
     "output_type": "stream",
     "text": [
      "[-2497.441641469137, 41436.28077294301]\n",
      "0.25     3922.35894\n",
      "0.75    26558.75467\n",
      "Name: Income per Capita, dtype: float64\n",
      "22636.395729999997\n"
     ]
    }
   ],
   "source": [
    "# Calculate mean\n",
    "mean = income['Income per Capita'].mean()\n",
    "\n",
    "# Calculate standard deviation\n",
    "std = income['Income per Capita'].std()\n",
    "\n",
    "# Calculate and print lower and upper bounds\n",
    "bounds = [mean - std, mean + std]\n",
    "print(bounds)\n",
    "\n",
    "# Calculate and print first and third quartiles\n",
    "quantiles = income['Income per Capita'].quantile([0.25, 0.75])\n",
    "print(quantiles)\n",
    "\n",
    "# Calculate and print IQR\n",
    "iqr = quantiles[0.75] - quantiles[0.25]\n",
    "print(iqr)"
   ]
  },
  {
   "cell_type": "code",
   "execution_count": 8,
   "id": "c285992d-e637-40d9-a9af-a1b470bdf897",
   "metadata": {},
   "outputs": [
    {
     "name": "stdout",
     "output_type": "stream",
     "text": [
      "[0.1 0.2 0.3 0.4 0.5 0.6 0.7 0.8 0.9]\n",
      "0.1     1805.906426\n",
      "0.2     3177.255688\n",
      "0.3     5506.323195\n",
      "0.4     8510.729683\n",
      "0.5    11620.932520\n",
      "0.6    15790.369076\n",
      "0.7    22563.075646\n",
      "0.8    32517.693902\n",
      "0.9    47377.886804\n",
      "Name: Income per Capita, dtype: float64\n"
     ]
    },
    {
     "data": {
      "image/png": "[encoded data removed]",
      "text/plain": [
       "<Figure size 432x288 with 1 Axes>"
      ]
     },
     "metadata": {
      "needs_background": "light"
     },
     "output_type": "display_data"
    }
   ],
   "source": [
    "import numpy as np\n",
    "import matplotlib.pyplot as plt\n",
    "# Generate range of deciles\n",
    "quantiles = np.arange(0.1, 0.91, 0.1)\n",
    "\n",
    "# Print them\n",
    "print(quantiles)\n",
    "\n",
    "# Calculate deciles for 'Income per Capita'\n",
    "deciles = income['Income per Capita'].quantile(quantiles)\n",
    "\n",
    "# Print them\n",
    "print(deciles)\n",
    "\n",
    "# Plot deciles as a bar chart\n",
    "deciles.plot(kind='bar', title='Global Income per Capita - Deciles')\n",
    "\n",
    "# Make sure to use the tight layout!\n",
    "plt.tight_layout()\n",
    "\n",
    "# Show the plot\n",
    "plt.show()"
   ]
  },
  {
   "cell_type": "code",
   "execution_count": 9,
   "id": "1faf3091-2d3c-49c4-905d-790c121c18db",
   "metadata": {},
   "outputs": [
    {
     "name": "stdout",
     "output_type": "stream",
     "text": [
      "       Income per Capita  Income per Capita (,000)\n",
      "count         184.000000                184.000000\n",
      "mean        19469.419566                 18.967391\n",
      "std         21966.861207                 21.975869\n",
      "min           618.752859                  0.000000\n",
      "25%          3922.358940                  3.000000\n",
      "50%         11620.932520                 11.000000\n",
      "75%         26558.754670                 26.000000\n",
      "max        141542.662800                141.000000\n"
     ]
    },
    {
     "name": "stderr",
     "output_type": "stream",
     "text": [
      "C:\\Users\\olshevch\\anaconda3\\envs\\Python_3_7\\lib\\site-packages\\seaborn\\distributions.py:2619: FutureWarning: `distplot` is a deprecated function and will be removed in a future version. Please adapt your code to use either `displot` (a figure-level function with similar flexibility) or `histplot` (an axes-level function for histograms).\n",
      "  warnings.warn(msg, FutureWarning)\n"
     ]
    },
    {
     "data": {
      "image/png": "[encoded data removed]",
      "text/plain": [
       "<Figure size 432x288 with 1 Axes>"
      ]
     },
     "metadata": {
      "needs_background": "light"
     },
     "output_type": "display_data"
    },
    {
     "name": "stderr",
     "output_type": "stream",
     "text": [
      "C:\\Users\\olshevch\\anaconda3\\envs\\Python_3_7\\lib\\site-packages\\seaborn\\distributions.py:2619: FutureWarning: `distplot` is a deprecated function and will be removed in a future version. Please adapt your code to use either `displot` (a figure-level function with similar flexibility) or `histplot` (an axes-level function for histograms).\n",
      "  warnings.warn(msg, FutureWarning)\n",
      "C:\\Users\\olshevch\\anaconda3\\envs\\Python_3_7\\lib\\site-packages\\seaborn\\distributions.py:2103: FutureWarning: The `axis` variable is no longer used and will be removed. Instead, assign variables directly to `x` or `y`.\n",
      "  warnings.warn(msg, FutureWarning)\n"
     ]
    },
    {
     "data": {
      "image/png": "[encoded data removed]",
      "text/plain": [
       "<Figure size 432x288 with 1 Axes>"
      ]
     },
     "metadata": {
      "needs_background": "light"
     },
     "output_type": "display_data"
    }
   ],
   "source": [
    "# Import seaborn and matplotlib\n",
    "import seaborn as sns\n",
    "import matplotlib.pyplot as plt\n",
    "\n",
    "# Print the summary statistics for income\n",
    "print(income.describe())\n",
    "\n",
    "# Plot a basic histogram of income per capita\n",
    "sns.distplot(income['Income per Capita'])\n",
    "\n",
    "# Show the plot\n",
    "plt.show()\n",
    "\n",
    "# Plot a rugplot\n",
    "sns.distplot(income['Income per Capita'], bins = 50, kde = False, rug = True)\n",
    "\n",
    "# Show the plot\n",
    "plt.show()"
   ]
  },
  {
   "cell_type": "code",
   "execution_count": 10,
   "id": "79488546-7859-4927-b2d7-b961a42ccd6b",
   "metadata": {},
   "outputs": [
    {
     "name": "stderr",
     "output_type": "stream",
     "text": [
      "C:\\Users\\olshevch\\anaconda3\\envs\\Python_3_7\\lib\\site-packages\\seaborn\\distributions.py:2619: FutureWarning: `distplot` is a deprecated function and will be removed in a future version. Please adapt your code to use either `displot` (a figure-level function with similar flexibility) or `histplot` (an axes-level function for histograms).\n",
      "  warnings.warn(msg, FutureWarning)\n"
     ]
    },
    {
     "data": {
      "image/png": "[encoded data removed]",
      "text/plain": [
       "<Figure size 432x288 with 1 Axes>"
      ]
     },
     "metadata": {
      "needs_background": "light"
     },
     "output_type": "display_data"
    }
   ],
   "source": [
    "# Create inc_per_capita\n",
    "inc_per_capita = income['Income per Capita']\n",
    "\n",
    "# Filter out incomes above the 95th percentile\n",
    "inc_per_capita = inc_per_capita[inc_per_capita < inc_per_capita.quantile(0.95)]\n",
    "\n",
    "# Plot histogram and assign to ax\n",
    "ax = sns.distplot(inc_per_capita)\n",
    "\n",
    "# Highlight mean\n",
    "ax.axvline(inc_per_capita.mean(), color='b')\n",
    "\n",
    "# Highlight median\n",
    "ax.axvline(inc_per_capita.median(), color='g')\n",
    "\n",
    "# Show the plot\n",
    "plt.show()"
   ]
  },
  {
   "cell_type": "code",
   "execution_count": 18,
   "id": "e3fa3797-3837-498c-8cc9-e3d40c969d32",
   "metadata": {},
   "outputs": [],
   "source": [
    "# Create the pd.ExcelFile() object\n",
    "xls = pd.ExcelFile('listings.xlsx')\n",
    "\n",
    "# Extract the sheet names from xls\n",
    "exchanges = xls.sheet_names\n",
    "\n",
    "# Create an empty list: listings\n",
    "listings = {}\n",
    "\n",
    "# Import the data\n",
    "for exchange in exchanges:\n",
    "    listing = pd.read_excel(xls, sheet_name=exchange, na_values='n/a')\n",
    "    listing['Exchange'] = exchange\n",
    "    listings[exchange] = listing"
   ]
  },
  {
   "cell_type": "code",
   "execution_count": 19,
   "id": "1f563807-b946-4fe8-ab30-7ab31c3fe5b7",
   "metadata": {},
   "outputs": [
    {
     "data": {
      "image/png": "[encoded data removed]",
      "text/plain": [
       "<Figure size 432x288 with 1 Axes>"
      ]
     },
     "metadata": {
      "needs_background": "light"
     },
     "output_type": "display_data"
    },
    {
     "data": {
      "image/png": "[encoded data removed]",
      "text/plain": [
       "<Figure size 432x288 with 1 Axes>"
      ]
     },
     "metadata": {
      "needs_background": "light"
     },
     "output_type": "display_data"
    },
    {
     "data": {
      "image/png": "[encoded data removed]",
      "text/plain": [
       "<Figure size 432x288 with 1 Axes>"
      ]
     },
     "metadata": {
      "needs_background": "light"
     },
     "output_type": "display_data"
    }
   ],
   "source": [
    "# Create the list exchanges\n",
    "exchanges = ['amex', 'nasdaq', 'nyse']\n",
    "\n",
    "# Iterate over exchanges then plot and show result\n",
    "for exchang in exchanges:\n",
    "    sectors = listings[exchang].Sector.value_counts()\n",
    "    # Sort in descending order and plot\n",
    "    sectors.sort_values(ascending=False).plot(kind='bar', title = exchang)\n",
    "    # Show the plot\n",
    "    plt.show()"
   ]
  },
  {
   "cell_type": "code",
   "execution_count": 22,
   "id": "85a91f5d-e002-4950-8887-dc90cb773f8b",
   "metadata": {},
   "outputs": [
    {
     "data": {
      "image/png": "[encoded data removed]",
      "text/plain": [
       "<Figure size 1080x720 with 1 Axes>"
      ]
     },
     "metadata": {
      "needs_background": "light"
     },
     "output_type": "display_data"
    }
   ],
   "source": [
    "# Create lists\n",
    "exchanges = ['amex', 'nasdaq', 'nyse']\n",
    "all_listings = []\n",
    "\n",
    "# Use for loop to create listing_data\n",
    "for exchange in exchanges:\n",
    "    all_listings.append(listings[exchange])\n",
    "    \n",
    "# Combine DataFrames\n",
    "listing_data = pd.concat(all_listings)\n",
    "\n",
    "# Select tech companies\n",
    "tech_companies = listing_data[listing_data.Sector == 'Technology']\n",
    "\n",
    "# Create ipo_years\n",
    "ipo_years = tech_companies['IPO Year']\n",
    "\n",
    "# Drop missing values and convert to int\n",
    "ipo_years = ipo_years.dropna().astype(int)\n",
    "\n",
    "# Count values, sort ascending by yea'r, and create a bar plot\n",
    "ipo_years.value_counts(ascending=True).plot(figsize = (15,10),kind='bar', title='Tech IPOs by Year')\n",
    "\n",
    "# Rotate xticks and show result\n",
    "plt.xticks(rotation=45)\n",
    "\n",
    "# Show the plot\n",
    "plt.show()"
   ]
  },
  {
   "cell_type": "code",
   "execution_count": null,
   "id": "26e44cd2-0b9b-4d03-b071-17e8dcea65b4",
   "metadata": {},
   "outputs": [],
   "source": [
    "#############################################################################################"
   ]
  },
  {
   "cell_type": "code",
   "execution_count": 1,
   "id": "5b28f7d0-1a6b-44e8-97bb-f6e25888daf8",
   "metadata": {},
   "outputs": [
    {
     "name": "stderr",
     "output_type": "stream",
     "text": [
      "C:\\Users\\olshevch\\anaconda3\\envs\\Python_3_7\\lib\\site-packages\\openpyxl\\worksheet\\_reader.py:312: UserWarning: Unknown extension is not supported and will be removed\n",
      "  warn(msg)\n"
     ]
    },
    {
     "data": {
      "text/html": [
       "<div>\n",
       "<style scoped>\n",
       "    .dataframe tbody tr th:only-of-type {\n",
       "        vertical-align: middle;\n",
       "    }\n",
       "\n",
       "    .dataframe tbody tr th {\n",
       "        vertical-align: top;\n",
       "    }\n",
       "\n",
       "    .dataframe thead th {\n",
       "        text-align: right;\n",
       "    }\n",
       "</style>\n",
       "<table border=\"1\" class=\"dataframe\">\n",
       "  <thead>\n",
       "    <tr style=\"text-align: right;\">\n",
       "      <th></th>\n",
       "      <th>Stock Symbol</th>\n",
       "      <th>Company Name</th>\n",
       "      <th>Last Sale</th>\n",
       "      <th>Market Capitalization</th>\n",
       "      <th>IPO Year</th>\n",
       "      <th>Sector</th>\n",
       "      <th>Industry</th>\n",
       "    </tr>\n",
       "  </thead>\n",
       "  <tbody>\n",
       "    <tr>\n",
       "      <th>0</th>\n",
       "      <td>DDD</td>\n",
       "      <td>3D Systems Corporation</td>\n",
       "      <td>14.48</td>\n",
       "      <td>1.647165e+09</td>\n",
       "      <td>NaN</td>\n",
       "      <td>Technology</td>\n",
       "      <td>Computer Software: Prepackaged Software</td>\n",
       "    </tr>\n",
       "    <tr>\n",
       "      <th>1</th>\n",
       "      <td>MMM</td>\n",
       "      <td>3M Company</td>\n",
       "      <td>188.65</td>\n",
       "      <td>1.127366e+11</td>\n",
       "      <td>NaN</td>\n",
       "      <td>Health Care</td>\n",
       "      <td>Medical/Dental Instruments</td>\n",
       "    </tr>\n",
       "    <tr>\n",
       "      <th>2</th>\n",
       "      <td>WBAI</td>\n",
       "      <td>500.com Limited</td>\n",
       "      <td>13.96</td>\n",
       "      <td>5.793129e+08</td>\n",
       "      <td>2013.0</td>\n",
       "      <td>Consumer Services</td>\n",
       "      <td>Services-Misc. Amusement &amp; Recreation</td>\n",
       "    </tr>\n",
       "    <tr>\n",
       "      <th>3</th>\n",
       "      <td>WUBA</td>\n",
       "      <td>58.com Inc.</td>\n",
       "      <td>36.11</td>\n",
       "      <td>5.225238e+09</td>\n",
       "      <td>2013.0</td>\n",
       "      <td>Technology</td>\n",
       "      <td>Computer Software: Programming, Data Processing</td>\n",
       "    </tr>\n",
       "    <tr>\n",
       "      <th>4</th>\n",
       "      <td>AHC</td>\n",
       "      <td>A.H. Belo Corporation</td>\n",
       "      <td>6.20</td>\n",
       "      <td>1.347351e+08</td>\n",
       "      <td>NaN</td>\n",
       "      <td>Consumer Services</td>\n",
       "      <td>Newspapers/Magazines</td>\n",
       "    </tr>\n",
       "  </tbody>\n",
       "</table>\n",
       "</div>"
      ],
      "text/plain": [
       "  Stock Symbol            Company Name  Last Sale  Market Capitalization  \\\n",
       "0          DDD  3D Systems Corporation      14.48           1.647165e+09   \n",
       "1          MMM              3M Company     188.65           1.127366e+11   \n",
       "2         WBAI         500.com Limited      13.96           5.793129e+08   \n",
       "3         WUBA             58.com Inc.      36.11           5.225238e+09   \n",
       "4          AHC   A.H. Belo Corporation       6.20           1.347351e+08   \n",
       "\n",
       "   IPO Year             Sector  \\\n",
       "0       NaN         Technology   \n",
       "1       NaN        Health Care   \n",
       "2    2013.0  Consumer Services   \n",
       "3    2013.0         Technology   \n",
       "4       NaN  Consumer Services   \n",
       "\n",
       "                                          Industry  \n",
       "0          Computer Software: Prepackaged Software  \n",
       "1                       Medical/Dental Instruments  \n",
       "2            Services-Misc. Amusement & Recreation  \n",
       "3  Computer Software: Programming, Data Processing  \n",
       "4                             Newspapers/Magazines  "
      ]
     },
     "execution_count": 1,
     "metadata": {},
     "output_type": "execute_result"
    }
   ],
   "source": [
    "import pandas as pd\n",
    "\n",
    "# Import the data\n",
    "nyse = pd.read_excel('listings.xlsx', sheet_name = 'nyse', na_values='n/a')\n",
    "\n",
    "nyse.head()"
   ]
  },
  {
   "cell_type": "code",
   "execution_count": 2,
   "id": "97d2f16b-be08-4fa6-9b63-87bc991a369a",
   "metadata": {},
   "outputs": [
    {
     "name": "stdout",
     "output_type": "stream",
     "text": [
      "<class 'pandas.core.frame.DataFrame'>\n",
      "RangeIndex: 3147 entries, 0 to 3146\n",
      "Data columns (total 7 columns):\n",
      " #   Column                 Non-Null Count  Dtype  \n",
      "---  ------                 --------------  -----  \n",
      " 0   Stock Symbol           3147 non-null   object \n",
      " 1   Company Name           3147 non-null   object \n",
      " 2   Last Sale              3079 non-null   float64\n",
      " 3   Market Capitalization  3147 non-null   float64\n",
      " 4   IPO Year               1361 non-null   float64\n",
      " 5   Sector                 2177 non-null   object \n",
      " 6   Industry               2177 non-null   object \n",
      "dtypes: float64(3), object(4)\n",
      "memory usage: 172.2+ KB\n"
     ]
    },
    {
     "data": {
      "image/png": "[encoded data removed]",
      "text/plain": [
       "<Figure size 432x288 with 1 Axes>"
      ]
     },
     "metadata": {
      "needs_background": "light"
     },
     "output_type": "display_data"
    }
   ],
   "source": [
    "import matplotlib.pyplot as plt\n",
    "\n",
    "# Inspect NYSE data\n",
    "nyse.info()\n",
    "\n",
    "# Create market_cap_m\n",
    "nyse['market_cap_m'] = nyse['Market Capitalization'].div(1e6)\n",
    "\n",
    "# Drop market cap column\n",
    "nyse = nyse.drop('Market Capitalization', axis=1)\n",
    "\n",
    "# Group nyse by sector\n",
    "mcap_by_sector = nyse.groupby('Sector')\n",
    "\n",
    "# Calculate median\n",
    "median_mcap_by_sector = mcap_by_sector.market_cap_m.median()\n",
    "\n",
    "# Plot and show as horizontal bar chart\n",
    "median_mcap_by_sector.plot(kind='barh', title='NYSE - Median Market Capitalization')\n",
    "\n",
    "# Add the label\n",
    "plt.xlabel('USD mn')\n",
    "\n",
    "# Show the plot\n",
    "plt.show()"
   ]
  },
  {
   "cell_type": "code",
   "execution_count": 16,
   "id": "3579e2fa-28d1-47bc-8ba5-93cadfa1ae5a",
   "metadata": {},
   "outputs": [
    {
     "name": "stderr",
     "output_type": "stream",
     "text": [
      "C:\\Users\\olshevch\\anaconda3\\envs\\Python_3_7\\lib\\site-packages\\openpyxl\\worksheet\\_reader.py:312: UserWarning: Unknown extension is not supported and will be removed\n",
      "  warn(msg)\n"
     ]
    }
   ],
   "source": [
    "# Create the pd.ExcelFile() object\n",
    "xls = pd.ExcelFile('listings.xlsx')\n",
    "\n",
    "# Extract the sheet names from xls\n",
    "exchanges = xls.sheet_names\n",
    "\n",
    "# Create an empty list: listings\n",
    "listings = {}\n",
    "\n",
    "# Import the data\n",
    "for exchange in exchanges:\n",
    "    listing = pd.read_excel(xls, sheet_name=exchange, na_values='n/a')\n",
    "    listing['Exchange'] = exchange\n",
    "    listings[exchange] = listing\n",
    "    \n",
    "listings = pd.concat([listings[ex] for ex in exchanges])\n",
    "\n",
    "# Create market_cap_m\n",
    "listings['market_cap_m'] = listings['Market Capitalization'].div(1e6)"
   ]
  },
  {
   "cell_type": "code",
   "execution_count": 14,
   "id": "fcadb471-88cc-441d-8251-bcf6f93a8584",
   "metadata": {},
   "outputs": [
    {
     "name": "stdout",
     "output_type": "stream",
     "text": [
      "<class 'pandas.core.frame.DataFrame'>\n",
      "Int64Index: 6674 entries, 0 to 3146\n",
      "Data columns (total 8 columns):\n",
      " #   Column                 Non-Null Count  Dtype  \n",
      "---  ------                 --------------  -----  \n",
      " 0   Stock Symbol           6674 non-null   object \n",
      " 1   Company Name           6674 non-null   object \n",
      " 2   Last Sale              6590 non-null   float64\n",
      " 3   Market Capitalization  6674 non-null   float64\n",
      " 4   IPO Year               2852 non-null   float64\n",
      " 5   Sector                 5182 non-null   object \n",
      " 6   Industry               5182 non-null   object \n",
      " 7   Exchange               6674 non-null   object \n",
      "dtypes: float64(3), object(5)\n",
      "memory usage: 469.3+ KB\n",
      "     Stock Symbol                                       Company Name  \\\n",
      "0            XXII                            22nd Century Group, Inc   \n",
      "1             FAX              Aberdeen Asia-Pacific Income Fund Inc   \n",
      "2             IAF                 Aberdeen Australia Equity Fund Inc   \n",
      "3              CH                          Aberdeen Chile Fund, Inc.   \n",
      "4  ABE             Aberdeen Emerging Markets Smaller Company Oppo...   \n",
      "\n",
      "   Last Sale  Market Capitalization  IPO Year                 Sector  \\\n",
      "0     1.3300           1.206285e+08       NaN  Consumer Non-Durables   \n",
      "1     5.0000           1.266333e+09    1986.0                    NaN   \n",
      "2     6.1500           1.398653e+08       NaN                    NaN   \n",
      "3     7.2201           6.756346e+07       NaN                    NaN   \n",
      "4    13.3600           1.288430e+08       NaN                    NaN   \n",
      "\n",
      "                Industry Exchange  \n",
      "0  Farming/Seeds/Milling     amex  \n",
      "1                    NaN     amex  \n",
      "2                    NaN     amex  \n",
      "3                    NaN     amex  \n",
      "4                    NaN     amex  \n"
     ]
    }
   ],
   "source": [
    "# Inspect listings\n",
    "listings.info()\n",
    "\n",
    "# Show listings head\n",
    "print(listings.head())"
   ]
  },
  {
   "cell_type": "code",
   "execution_count": 5,
   "id": "f8129092-a2dc-4a50-9b84-3205fc1dbaf0",
   "metadata": {},
   "outputs": [
    {
     "data": {
      "image/png": "[encoded data removed]",
      "text/plain": [
       "<Figure size 432x288 with 1 Axes>"
      ]
     },
     "metadata": {
      "needs_background": "light"
     },
     "output_type": "display_data"
    }
   ],
   "source": [
    "# Create market_cap_m\n",
    "listings['market_cap_m'] = listings['Market Capitalization'].div(1e6)\n",
    "\n",
    "# Select companies with IPO after 1985\n",
    "listings = listings[listings['IPO Year'] > 1985]\n",
    "\n",
    "# Drop missing values and convert to integers\n",
    "listings['IPO Year'] = listings['IPO Year'].dropna().astype(int)\n",
    "\n",
    "# Calculate the median market cap by IPO Year and sort the index\n",
    "ipo_by_year = listings.groupby('IPO Year').market_cap_m.median().sort_index()\n",
    "\n",
    "# Plot results as a bar chart\n",
    "ipo_by_year.plot(kind='bar')\n",
    "\n",
    "# Show the plot\n",
    "plt.show()"
   ]
  },
  {
   "cell_type": "code",
   "execution_count": 7,
   "id": "76a1a726-0f05-4f9d-a42f-d95326e7c58a",
   "metadata": {},
   "outputs": [
    {
     "name": "stdout",
     "output_type": "stream",
     "text": [
      "<class 'pandas.core.frame.DataFrame'>\n",
      "RangeIndex: 3167 entries, 0 to 3166\n",
      "Data columns (total 7 columns):\n",
      " #   Column                 Non-Null Count  Dtype  \n",
      "---  ------                 --------------  -----  \n",
      " 0   Stock Symbol           3167 non-null   object \n",
      " 1   Company Name           3167 non-null   object \n",
      " 2   Last Sale              3165 non-null   float64\n",
      " 3   Market Capitalization  3167 non-null   float64\n",
      " 4   IPO Year               1386 non-null   float64\n",
      " 5   Sector                 2767 non-null   object \n",
      " 6   Industry               2767 non-null   object \n",
      "dtypes: float64(3), object(4)\n",
      "memory usage: 173.3+ KB\n"
     ]
    },
    {
     "name": "stderr",
     "output_type": "stream",
     "text": [
      "C:\\Users\\olshevch\\anaconda3\\envs\\Python_3_7\\lib\\site-packages\\openpyxl\\worksheet\\_reader.py:312: UserWarning: Unknown extension is not supported and will be removed\n",
      "  warn(msg)\n"
     ]
    }
   ],
   "source": [
    "# Import the data\n",
    "nasdaq = pd.read_excel('listings.xlsx', sheet_name = 'nasdaq', na_values='n/a')\n",
    "\n",
    "# Inspect NASDAQ data\n",
    "nasdaq.info()"
   ]
  },
  {
   "cell_type": "code",
   "execution_count": 8,
   "id": "22298669-0eef-4e99-9481-b58caff1fcb4",
   "metadata": {},
   "outputs": [
    {
     "name": "stdout",
     "output_type": "stream",
     "text": [
      "                      Last Sale                                          \\\n",
      "                          count       mean         std     min      25%   \n",
      "Sector                                                                    \n",
      "Basic Industries           78.0  21.597679   29.009745  0.0336   2.6325   \n",
      "Capital Goods             172.0  26.188681   36.596723  0.1500   4.3800   \n",
      "Consumer Durables          88.0  24.363391   44.399150  0.0498   3.7500   \n",
      "Consumer Non-Durables     103.0  25.749565   34.669635  0.1996   3.8800   \n",
      "Consumer Services         348.0  34.917318   67.416144  0.0488   6.8250   \n",
      "Energy                     65.0  15.496834   22.952420  0.1330   1.9600   \n",
      "Finance                   627.0  29.644242   61.446557  0.0752  10.7350   \n",
      "Health Care               645.0  19.462531   46.932855  0.0081   2.1200   \n",
      "Miscellaneous              89.0  46.094369  186.951618  0.8384   3.5700   \n",
      "Public Utilities           66.0  18.643705   19.307475  0.2532   5.3325   \n",
      "Technology                433.0  31.100317   63.761748  0.1800   5.1000   \n",
      "Transportation             52.0  28.096758   30.627056  0.2300   3.6400   \n",
      "\n",
      "                                                IPO Year               ...  \\\n",
      "                          50%      75%      max    count         mean  ...   \n",
      "Sector                                                                 ...   \n",
      "Basic Industries        8.580  22.4800   114.80     30.0  2000.766667  ...   \n",
      "Capital Goods          16.020  33.5400   304.00     77.0  2001.324675  ...   \n",
      "Consumer Durables       9.685  30.6525   354.00     36.0  2003.222222  ...   \n",
      "Consumer Non-Durables  11.290  34.8600   202.18     41.0  2000.609756  ...   \n",
      "Consumer Services      20.660  37.5250   884.67    153.0  2004.104575  ...   \n",
      "Energy                  8.120  17.9800   114.10     29.0  2008.034483  ...   \n",
      "Finance                21.200  32.7000  1367.00    218.0  2010.321101  ...   \n",
      "Health Care             6.260  19.3800   764.79    391.0  2009.240409  ...   \n",
      "Miscellaneous          11.210  34.3300  1738.77     42.0  2004.333333  ...   \n",
      "Public Utilities       13.150  25.3150   104.46     25.0  2006.040000  ...   \n",
      "Technology             15.000  37.9500   840.18    274.0  2002.653285  ...   \n",
      "Transportation         19.000  43.5950   152.05     21.0  1997.809524  ...   \n",
      "\n",
      "                                       market_cap_m                \\\n",
      "                           75%     max        count          mean   \n",
      "Sector                                                              \n",
      "Basic Industries       2011.75  2016.0         78.0    724.899934   \n",
      "Capital Goods          2012.00  2016.0        172.0   1511.237373   \n",
      "Consumer Durables      2013.00  2015.0         88.0    839.802607   \n",
      "Consumer Non-Durables  2011.00  2016.0        103.0   3104.051206   \n",
      "Consumer Services      2013.00  2017.0        348.0   5582.344175   \n",
      "Energy                 2016.00  2017.0         66.0    826.607608   \n",
      "Finance                2015.00  2017.0        627.0   1044.090205   \n",
      "Health Care            2015.00  2017.0        645.0   1758.709197   \n",
      "Miscellaneous          2010.75  2016.0         89.0   3445.655935   \n",
      "Public Utilities       2014.00  2016.0         66.0   2357.865315   \n",
      "Technology             2012.00  2017.0        433.0  10883.434214   \n",
      "Transportation         2006.00  2013.0         52.0   2869.660007   \n",
      "\n",
      "                                                                              \\\n",
      "                                std  min        25%         50%          75%   \n",
      "Sector                                                                         \n",
      "Basic Industries        1445.544949  0.0  42.870409  150.385214   721.203429   \n",
      "Capital Goods           4829.846757  0.0  68.473978  293.801019  1031.733122   \n",
      "Consumer Durables       1907.604606  0.0  41.234061  177.593858   669.007612   \n",
      "Consumer Non-Durables  12998.094858  0.0  47.795651  229.930660  1149.085989   \n",
      "Consumer Services      26492.247636  0.0  79.944770  524.151914  2463.643810   \n",
      "Energy                  1568.869627  0.0  53.604112  182.427776   728.108863   \n",
      "Finance                 2874.795862  0.0  49.512344  205.476633   732.083620   \n",
      "Health Care             8767.258744  0.0  38.034797  173.823325   662.945151   \n",
      "Miscellaneous          11461.047175  0.0  63.958819  228.096175  1544.483369   \n",
      "Public Utilities        8729.065471  0.0  91.844332  378.995786  1115.589226   \n",
      "Technology             62279.404522  0.0  85.609828  600.720995  2464.720340   \n",
      "Transportation          6915.407403  0.0  68.539669  479.777469  1724.087196   \n",
      "\n",
      "                                      \n",
      "                                 max  \n",
      "Sector                                \n",
      "Basic Industries         7976.835456  \n",
      "Capital Goods           49614.832848  \n",
      "Consumer Durables       13620.922869  \n",
      "Consumer Non-Durables  111367.949216  \n",
      "Consumer Services      422138.530626  \n",
      "Energy                   9468.718827  \n",
      "Finance                 39372.418940  \n",
      "Health Care            118927.210535  \n",
      "Miscellaneous           85496.045967  \n",
      "Public Utilities        52930.713577  \n",
      "Technology             740024.467000  \n",
      "Transportation          43005.669415  \n",
      "\n",
      "[12 rows x 24 columns]\n",
      "                     Sector               \n",
      "Last Sale     count  Basic Industries             78.000000\n",
      "                     Capital Goods               172.000000\n",
      "                     Consumer Durables            88.000000\n",
      "                     Consumer Non-Durables       103.000000\n",
      "                     Consumer Services           348.000000\n",
      "                                                  ...      \n",
      "market_cap_m  max    Health Care              118927.210535\n",
      "                     Miscellaneous             85496.045967\n",
      "                     Public Utilities          52930.713577\n",
      "                     Technology               740024.467000\n",
      "                     Transportation            43005.669415\n",
      "Length: 288, dtype: float64\n"
     ]
    }
   ],
   "source": [
    "# Create market_cap_m\n",
    "nasdaq['market_cap_m'] = nasdaq['Market Capitalization'].div(1e6)\n",
    "\n",
    "# Drop the Market Capitalization column\n",
    "nasdaq.drop('Market Capitalization', axis=1, inplace=True)\n",
    "\n",
    "# Group nasdaq by Sector\n",
    "nasdaq_by_sector = nasdaq.groupby('Sector')\n",
    "\n",
    "# Create summary statistics by sector\n",
    "summary = nasdaq_by_sector.describe()\n",
    "\n",
    "# Print the summary\n",
    "print(summary)\n",
    "\n",
    "# Unstack \n",
    "summary = summary.unstack()\n",
    "\n",
    "# Print the summary again\n",
    "print(summary)"
   ]
  },
  {
   "cell_type": "code",
   "execution_count": 10,
   "id": "907ebde8-b089-47d2-9eaf-8bf68bc97dc1",
   "metadata": {},
   "outputs": [
    {
     "name": "stdout",
     "output_type": "stream",
     "text": [
      "<class 'pandas.core.frame.DataFrame'>\n",
      "Int64Index: 2814 entries, 1 to 3146\n",
      "Data columns (total 9 columns):\n",
      " #   Column                 Non-Null Count  Dtype  \n",
      "---  ------                 --------------  -----  \n",
      " 0   Stock Symbol           2814 non-null   object \n",
      " 1   Company Name           2814 non-null   object \n",
      " 2   Last Sale              2811 non-null   float64\n",
      " 3   Market Capitalization  2814 non-null   float64\n",
      " 4   IPO Year               2814 non-null   int32  \n",
      " 5   Sector                 2311 non-null   object \n",
      " 6   Industry               2311 non-null   object \n",
      " 7   Exchange               2814 non-null   object \n",
      " 8   market_cap_m           2814 non-null   float64\n",
      "dtypes: float64(3), int32(1), object(5)\n",
      "memory usage: 208.9+ KB\n"
     ]
    }
   ],
   "source": [
    "listings.info()"
   ]
  },
  {
   "cell_type": "code",
   "execution_count": 17,
   "id": "b3d10001-0067-4655-9cc5-8afff0cba10b",
   "metadata": {},
   "outputs": [
    {
     "name": "stdout",
     "output_type": "stream",
     "text": [
      "Sector            Exchange\n",
      "Basic Industries  amex         148.564581\n",
      "                  nasdaq       150.385214\n",
      "                  nyse        2450.240499\n",
      "Capital Goods     amex          49.596035\n",
      "                  nasdaq       293.801019\n",
      "Name: market_cap_m, dtype: float64\n"
     ]
    },
    {
     "data": {
      "image/png": "[encoded data removed]",
      "text/plain": [
       "<Figure size 432x288 with 1 Axes>"
      ]
     },
     "metadata": {
      "needs_background": "light"
     },
     "output_type": "display_data"
    }
   ],
   "source": [
    "# Group listings by Sector and Exchange\n",
    "by_sector_exchange = listings.groupby(['Sector', 'Exchange'])\n",
    "\n",
    "# Calculate the median market cap\n",
    "mcap_by_sector_exchange = by_sector_exchange.market_cap_m.median()\n",
    "\n",
    "# Display the head of the result\n",
    "print(mcap_by_sector_exchange.head())\n",
    "\n",
    "# Unstack mcap_by_sector_exchange\n",
    "mcap_unstacked = mcap_by_sector_exchange.unstack()\n",
    "\n",
    "# Plot as a bar chart\n",
    "mcap_unstacked.plot(kind='bar', title='Median Market Capitalization by Exchange')\n",
    "\n",
    "# Set the x label\n",
    "plt.xlabel('USD mn')\n",
    "\n",
    "# Show the plot\n",
    "plt.show()"
   ]
  },
  {
   "cell_type": "code",
   "execution_count": 24,
   "id": "37ca0037-c58d-4243-92c5-37a5842ebbbf",
   "metadata": {},
   "outputs": [
    {
     "data": {
      "text/plain": [
       "<pandas.core.groupby.generic.SeriesGroupBy object at 0x00000223D5A62488>"
      ]
     },
     "execution_count": 24,
     "metadata": {},
     "output_type": "execute_result"
    }
   ],
   "source": [
    "# Create market_cap_m\n",
    "listings['market_cap_m'] = listings['Market Capitalization'].div(1e6)\n",
    "\n",
    "# Group listing by both Sector and Exchange\n",
    "by_sector_exchange = listings.groupby(['Sector', 'Exchange'])\n",
    "\n",
    "# Subset market_cap_m of by_sector_exchange\n",
    "bse_mcm = by_sector_exchange['market_cap_m']\n",
    "\n",
    "# Calculate mean, median, and std in summary\n",
    "summary = bse_mcm.agg({'Average': 'mean', 'Median': 'median', 'Standard Deviation': 'std'})\n",
    "\n",
    "# Print the summary\n",
    "print(summary)\n"
   ]
  },
  {
   "cell_type": "code",
   "execution_count": 27,
   "id": "751bb906-f8a5-4523-8494-87cb909d8ceb",
   "metadata": {},
   "outputs": [
    {
     "name": "stderr",
     "output_type": "stream",
     "text": [
      "C:\\Users\\olshevch\\anaconda3\\envs\\Python_3_7\\lib\\site-packages\\ipykernel_launcher.py:6: SettingWithCopyWarning: \n",
      "A value is trying to be set on a copy of a slice from a DataFrame.\n",
      "Try using .loc[row_indexer,col_indexer] = value instead\n",
      "\n",
      "See the caveats in the documentation: https://pandas.pydata.org/pandas-docs/stable/user_guide/indexing.html#returning-a-view-versus-a-copy\n",
      "  \n"
     ]
    },
    {
     "data": {
      "image/png": "[encoded data removed]",
      "text/plain": [
       "<Figure size 432x288 with 1 Axes>"
      ]
     },
     "metadata": {
      "needs_background": "light"
     },
     "output_type": "display_data"
    }
   ],
   "source": [
    "import seaborn as sns\n",
    "# Select IPOs after 2000\n",
    "listings2000 = listings[listings['IPO Year'] > 2000]\n",
    "\n",
    "# Convert IPO Year to integer\n",
    "listings2000['IPO Year'] = listings2000['IPO Year'].astype(int)\n",
    "\n",
    "# Create a countplot\n",
    "sns.countplot(x='IPO Year', hue='Exchange', data=listings2000)\n",
    "\n",
    "# Rotate xticks and show result\n",
    "plt.xticks(rotation=45)\n",
    "\n",
    "# Show the plot\n",
    "plt.show()"
   ]
  },
  {
   "cell_type": "code",
   "execution_count": 35,
   "id": "9d0cb8a4-9cd9-463a-8461-f11342c9b46f",
   "metadata": {},
   "outputs": [
    {
     "name": "stdout",
     "output_type": "stream",
     "text": [
      "<class 'pandas.core.frame.DataFrame'>\n",
      "RangeIndex: 40 entries, 0 to 39\n",
      "Data columns (total 4 columns):\n",
      " #   Column  Non-Null Count  Dtype  \n",
      "---  ------  --------------  -----  \n",
      " 0   DATE    40 non-null     object \n",
      " 1   China   40 non-null     float64\n",
      " 2   Brazil  40 non-null     float64\n",
      " 3   USA     40 non-null     float64\n",
      "dtypes: float64(3), object(1)\n",
      "memory usage: 1.4+ KB\n"
     ]
    }
   ],
   "source": [
    "income_trend = pd.read_csv('income_growth.csv')\n",
    "income_trend.info()"
   ]
  },
  {
   "cell_type": "code",
   "execution_count": null,
   "id": "87c48867-8819-4e49-a28b-bfd80e9a7d23",
   "metadata": {},
   "outputs": [],
   "source": []
  },
  {
   "cell_type": "code",
   "execution_count": null,
   "id": "b79bd67f-6f1b-444d-b3f5-09c316439024",
   "metadata": {},
   "outputs": [],
   "source": []
  },
  {
   "cell_type": "code",
   "execution_count": null,
   "id": "8c56dcfb-ffc1-4b8f-ac7e-1d88827c0d8a",
   "metadata": {},
   "outputs": [],
   "source": []
  },
  {
   "cell_type": "code",
   "execution_count": null,
   "id": "db2ce8aa-565b-48f6-9bff-099c37feef9b",
   "metadata": {},
   "outputs": [],
   "source": []
  }
 ],
 "metadata": {
  "kernelspec": {
   "display_name": "Python 3 (ipykernel)",
   "language": "python",
   "name": "python3"
  },
  "language_info": {
   "codemirror_mode": {
    "name": "ipython",
    "version": 3
   },
   "file_extension": ".py",
   "mimetype": "text/x-python",
   "name": "python",
   "nbconvert_exporter": "python",
   "pygments_lexer": "ipython3",
   "version": "3.7.11"
  }
 },
 "nbformat": 4,
 "nbformat_minor": 5
}
