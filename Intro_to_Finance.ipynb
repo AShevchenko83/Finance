{
 "cells": [
  {
   "cell_type": "code",
   "execution_count": 1,
   "id": "002bb813-2510-4f06-a0f7-f64182d8582f",
   "metadata": {},
   "outputs": [
    {
     "name": "stdout",
     "output_type": "stream",
     "text": [
      "Future Value of Investment: 574.35\n"
     ]
    }
   ],
   "source": [
    "import warnings\n",
    "warnings.filterwarnings(\"ignore\")\n",
    "\n",
    "# Calculate the future value of the investment and print it out\n",
    "future_value = 100 * (1 + 0.06) ** 30\n",
    "print(\"Future Value of Investment: \" + str(round(future_value, 2)))"
   ]
  },
  {
   "cell_type": "code",
   "execution_count": 2,
   "id": "26658f59-9501-471d-b839-1dc0dc0f760a",
   "metadata": {},
   "outputs": [
    {
     "name": "stdout",
     "output_type": "stream",
     "text": [
      "Investment 1: 574.35\n"
     ]
    }
   ],
   "source": [
    "# Predefined variables\n",
    "initial_investment = 100\n",
    "growth_periods = 30\n",
    "growth_rate = 0.06\n",
    "\n",
    "# Calculate the value for the investment compounded once per year\n",
    "compound_periods_1 = 1\n",
    "investment_1 = initial_investment * (1 + growth_rate) ** (growth_periods * compound_periods_1)\n",
    "print(\"Investment 1: \" + str(round(investment_1, 2)))"
   ]
  },
  {
   "cell_type": "code",
   "execution_count": 3,
   "id": "9c952024-0192-410a-98c6-5bbed3a2f69f",
   "metadata": {},
   "outputs": [
    {
     "name": "stdout",
     "output_type": "stream",
     "text": [
      "Investment 2: 596.93\n"
     ]
    }
   ],
   "source": [
    "# Calculate the value for the investment compounded quarterly\n",
    "compound_periods_2 = 4\n",
    "investment_2 = initial_investment*(1 + growth_rate / compound_periods_2)**(compound_periods_2*growth_periods)\n",
    "print(\"Investment 2: \" + str(round(investment_2, 2)))"
   ]
  },
  {
   "cell_type": "code",
   "execution_count": 4,
   "id": "1238689f-e1a2-47f2-9087-15a86c72ec3d",
   "metadata": {},
   "outputs": [
    {
     "name": "stdout",
     "output_type": "stream",
     "text": [
      "Investment 3: 602.26\n"
     ]
    }
   ],
   "source": [
    "# Calculate the value for the investment compounded monthly\n",
    "compound_periods_3 = 12\n",
    "investment_3 = initial_investment*(1 + growth_rate / compound_periods_3)**(compound_periods_3*growth_periods)\n",
    "print(\"Investment 3: \" + str(round(investment_3, 2)))"
   ]
  },
  {
   "cell_type": "code",
   "execution_count": 5,
   "id": "4b235f43-7bfc-4910-97c0-b6b9f39647f1",
   "metadata": {},
   "outputs": [
    {
     "name": "stdout",
     "output_type": "stream",
     "text": [
      "Future value: 59.87\n",
      "Discount factor: 1.67\n",
      "Initial value: 100.0\n"
     ]
    }
   ],
   "source": [
    "# Calculate the future value\n",
    "initial_investment = 100\n",
    "growth_rate = -0.05\n",
    "growth_periods = 10\n",
    "future_value = initial_investment*(1 + growth_rate)**(growth_periods)\n",
    "print(\"Future value: \" + str(round(future_value, 2)))\n",
    "\n",
    "# Calculate the discount factor\n",
    "discount_factor = 1/((1 + growth_rate)**(growth_periods))\n",
    "print(\"Discount factor: \" + str(round(discount_factor, 2)))\n",
    "\n",
    "# Derive the initial value of the investment\n",
    "initial_investment_again = future_value * discount_factor\n",
    "print(\"Initial value: \" + str(round(initial_investment_again, 2)))"
   ]
  },
  {
   "cell_type": "code",
   "execution_count": 6,
   "id": "64171ba7-f0ca-4b00-b13c-b4ed182ebfa2",
   "metadata": {},
   "outputs": [
    {
     "name": "stdout",
     "output_type": "stream",
     "text": [
      "Investment 1 is worth 6418.62 in today's dollars\n",
      "Investment 2 is worth 6139.13 in today's dollars\n"
     ]
    }
   ],
   "source": [
    "# Import numpy as np\n",
    "import numpy as np\n",
    "\n",
    "# Calculate investment_1\n",
    "investment_1 = np.pv(rate=0.03, nper=15, pmt=0, fv=10000)\n",
    "\n",
    "# Note that the present value returned is negative, so we multiply the result by -1\n",
    "print(\"Investment 1 is worth \" + str(round(-investment_1, 2)) + \" in today's dollars\")\n",
    "\n",
    "# Calculate investment_2\n",
    "investment_2 = np.pv(rate=0.05, nper=10, pmt=0, fv=10000)\n",
    "print(\"Investment 2 is worth \" + str(round(-investment_2, 2)) + \" in today's dollars\")"
   ]
  },
  {
   "cell_type": "code",
   "execution_count": 7,
   "id": "a40ecfcc-56a8-468d-96ef-05dfc53a03f8",
   "metadata": {},
   "outputs": [
    {
     "name": "stdout",
     "output_type": "stream",
     "text": [
      "Investment 1 will yield a total of $20789.28 in 15 years\n",
      "Investment 2 will yield a total of $31721.69 in 15 years\n"
     ]
    }
   ],
   "source": [
    "import numpy as np\n",
    "\n",
    "# Calculate investment_1\n",
    "investment_1 = np.fv(rate=0.05, nper=15, pmt=0, pv=-10000)\n",
    "print(\"Investment 1 will yield a total of $\" + str(round(investment_1, 2)) + \" in 15 years\")\n",
    "\n",
    "# Calculate investment_2\n",
    "investment_2 = np.fv(rate=0.08, nper=15, pmt=0, pv=-10000)\n",
    "\n",
    "print(\"Investment 2 will yield a total of $\" + str(round(investment_2, 2)) + \" in 15 years\")"
   ]
  },
  {
   "cell_type": "code",
   "execution_count": 8,
   "id": "25126feb-fa38-4e9b-8bd2-f0b9be90f199",
   "metadata": {},
   "outputs": [
    {
     "name": "stdout",
     "output_type": "stream",
     "text": [
      "Investment 1 will yield a total of $21589.25 in 10 years\n",
      "After adjusting for inflation, investment 1 is worth $16064.43 in today's dollars\n"
     ]
    }
   ],
   "source": [
    "import numpy as np\n",
    "\n",
    "# Calculate investment_1\n",
    "investment_1 = np.fv(rate=0.08, nper=10, pmt=0, pv=-10000)\n",
    "print(\"Investment 1 will yield a total of $\" + str(round(investment_1, 2)) + \" in 10 years\")\n",
    "\n",
    "# Calculate investment_2\n",
    "investment_1_discounted = np.pv(rate=0.03, nper=10, pmt=0, fv=investment_1)\n",
    "print(\"After adjusting for inflation, investment 1 is worth $\" + str(round(-investment_1_discounted, 2)) + \" in today's dollars\")"
   ]
  },
  {
   "cell_type": "code",
   "execution_count": 9,
   "id": "e80fe74f-ecc4-42a3-b316-47e7e4a1e118",
   "metadata": {},
   "outputs": [
    {
     "name": "stdout",
     "output_type": "stream",
     "text": [
      "Investment 1's net present value is $471.71 in today's dollars\n",
      "Investment 2's net present value is $454.6 in today's dollars\n",
      "Investment 3's net present value is $438.72 in today's dollars\n"
     ]
    }
   ],
   "source": [
    "# Predefined array of cash flows\n",
    "cash_flows = np.array([100, 100, 100, 100, 100])\n",
    "\n",
    "# Calculate investment_1\n",
    "investment_1 = np.npv(rate=0.03, values=cash_flows)\n",
    "print(\"Investment 1's net present value is $\" + str(round(investment_1, 2)) + \" in today's dollars\")\n",
    "\n",
    "# Calculate investment_2\n",
    "investment_2 = np.npv(rate=0.05, values=cash_flows)\n",
    "print(\"Investment 2's net present value is $\" + str(round(investment_2, 2)) + \" in today's dollars\")\n",
    "\n",
    "# Calculate investment_3\n",
    "investment_3 = np.npv(rate=0.07, values=cash_flows)\n",
    "print(\"Investment 3's net present value is $\" + str(round(investment_3, 2)) + \" in today's dollars\")"
   ]
  },
  {
   "cell_type": "code",
   "execution_count": 10,
   "id": "62a36a6e-8021-42ec-8006-ad31c6c1b3fb",
   "metadata": {},
   "outputs": [
    {
     "name": "stdout",
     "output_type": "stream",
     "text": [
      "The net present value of Investment 1 is worth $665.54 in today's dollars\n",
      "The net present value of Investment 2 is worth $346.7 in today's dollars\n"
     ]
    }
   ],
   "source": [
    "# Create an array of cash flows for project 1\n",
    "cash_flows_1 = np.array([-250, 100, 200, 300, 400])\n",
    "\n",
    "# Create an array of cash flows for project 2\n",
    "cash_flows_2 = np.array([-250, 300, -250, 300, 300])\n",
    "\n",
    "# Calculate the net present value of project 1\n",
    "investment_1 = np.npv(rate=0.03, values=cash_flows_1)\n",
    "print(\"The net present value of Investment 1 is worth $\" + str(round(investment_1, 2)) + \" in today's dollars\")\n",
    "\n",
    "# Calculate the net present value of project 2\n",
    "investment_2 = np.npv(rate=0.03, values=cash_flows_2)\n",
    "print(\"The net present value of Investment 2 is worth $\" + str(round(investment_2, 2)) + \" in today's dollars\")"
   ]
  },
  {
   "cell_type": "code",
   "execution_count": 11,
   "id": "00ee3fe9-a9b6-4a44-9ba1-d40d4acbb4de",
   "metadata": {},
   "outputs": [
    {
     "name": "stdout",
     "output_type": "stream",
     "text": [
      "Investment 1 is worth $41.2 in today's dollars\n",
      "Investment 2 is worth $22.81 in today's dollars\n",
      "Investment 3 is worth $5.2 in today's dollars\n"
     ]
    }
   ],
   "source": [
    "# Calculate investment_1\n",
    "investment_1 = np.pv(rate=0.03, nper=30, pmt=0, fv=100)\n",
    "print(\"Investment 1 is worth $\" + str(round(-investment_1, 2)) + \" in today's dollars\")\n",
    "\n",
    "# Calculate investment_2\n",
    "investment_2 = np.pv(rate=0.03, nper=50, pmt=0, fv=100)\n",
    "print(\"Investment 2 is worth $\" + str(round(-investment_2, 2)) + \" in today's dollars\")\n",
    "\n",
    "# Calculate investment_3\n",
    "investment_3 = np.pv(rate=0.03, nper=100, pmt=0, fv=100)\n",
    "print(\"Investment 3 is worth $\" + str(round(-investment_3, 2)) + \" in today's dollars\")"
   ]
  },
  {
   "cell_type": "code",
   "execution_count": 12,
   "id": "f6fd30b9-85d4-4ae2-b89a-c726dc75b607",
   "metadata": {},
   "outputs": [],
   "source": [
    "################################################################################"
   ]
  },
  {
   "cell_type": "code",
   "execution_count": 13,
   "id": "9563c375-1c9c-4729-98ef-81da76c944e1",
   "metadata": {},
   "outputs": [],
   "source": [
    "# Create a numpy array of cash flows for Project 1\n",
    "cf_project_1 = np.array([-1000, 200, 250, 300, 350, 400, 450, 500, 550, 600])\n",
    "\n",
    "# Create a numpy array of cash flows for Project 2\n",
    "cf_project_2 = np.array([-1000, 150, 225, 300, 375, 425, 500, 575, 600, 625])\n",
    "\n",
    "# Scale the original objects by 1000x\n",
    "cf_project1 = cf_project_1 * 1000\n",
    "cf_project2 = cf_project_2 * 1000\n"
   ]
  },
  {
   "cell_type": "code",
   "execution_count": 14,
   "id": "6101ba6f-6ab5-4457-a919-14d4c97c7b7b",
   "metadata": {},
   "outputs": [
    {
     "name": "stdout",
     "output_type": "stream",
     "text": [
      "Project 1 IRR: 28.92%\n",
      "Project 2 IRR: 28.78%\n"
     ]
    }
   ],
   "source": [
    "# Calculate the internal rate of return for Project 1\n",
    "irr_project1 = np.irr(cf_project1)\n",
    "print(\"Project 1 IRR: \" + str(round(100*irr_project1, 2)) + \"%\")\n",
    "\n",
    "# Calculate the internal rate of return for Project 2\n",
    "irr_project2 = np.irr(cf_project2)\n",
    "print(\"Project 2 IRR: \" + str(round(100*irr_project2, 2)) + \"%\")"
   ]
  },
  {
   "cell_type": "code",
   "execution_count": 15,
   "id": "72833da0-67c5-4496-9c4d-847f4b3a97d3",
   "metadata": {},
   "outputs": [
    {
     "name": "stdout",
     "output_type": "stream",
     "text": [
      "Debt Financing: 50.0%\n",
      "Equity Financing: 50.0%\n"
     ]
    }
   ],
   "source": [
    "# WACC Calculation\n",
    "\n",
    "# Set the market value of debt\n",
    "mval_debt = 1000000\n",
    "\n",
    "# Set the market value of equity\n",
    "mval_equity = 1000000\n",
    "\n",
    "# Compute the total market value of your company's financing\n",
    "mval_total = mval_equity + mval_debt\n",
    "\n",
    "# Compute the proportion of your company's financing via debt\n",
    "percent_debt = mval_debt / mval_total\n",
    "print(\"Debt Financing: \" + str(round(100*percent_debt, 2)) + \"%\")\n",
    "\n",
    "# Compute the proportion of your company's financing via equity\n",
    "percent_equity = mval_equity / mval_total\n",
    "print(\"Equity Financing: \" + str(round(100*percent_equity, 2)) + \"%\")"
   ]
  },
  {
   "cell_type": "code",
   "execution_count": 16,
   "id": "30fb8647-b8b9-423a-a5d9-31c712911221",
   "metadata": {},
   "outputs": [
    {
     "name": "stdout",
     "output_type": "stream",
     "text": [
      "WACC: 12.9%\n"
     ]
    }
   ],
   "source": [
    "# Set the cost of equity\n",
    "cost_equity = 0.18\n",
    "\n",
    "# Set the cost of debt\n",
    "cost_debt = 0.12\n",
    "\n",
    "# Set the corporate tax rate\n",
    "tax_rate = 0.35\n",
    "\n",
    "# Calculate the WACC\n",
    "wacc = percent_equity * cost_equity + percent_debt * cost_debt * (1 - tax_rate)\n",
    "print(\"WACC: \" + str(round(100*wacc, 2)) + \"%\")"
   ]
  },
  {
   "cell_type": "code",
   "execution_count": 17,
   "id": "f585fbe6-616d-4bfa-8ed6-d09f9cfc975e",
   "metadata": {},
   "outputs": [
    {
     "name": "stdout",
     "output_type": "stream",
     "text": [
      "Project 1 NPV: 856073.18\n",
      "Project 2 NPV: 904741.35\n"
     ]
    }
   ],
   "source": [
    "# Calculate the net present value for Project 1\n",
    "npv_project1 = np.npv(wacc, cf_project1)\n",
    "print(\"Project 1 NPV: \" + str(round(npv_project1, 2)))\n",
    "\n",
    "# Calculate the net present value for Project 2\n",
    "npv_project2 = np.npv(wacc, cf_project2)\n",
    "print(\"Project 2 NPV: \" + str(round(npv_project2, 2)))"
   ]
  },
  {
   "cell_type": "code",
   "execution_count": 18,
   "id": "065eb1bf-e44a-4d39-8886-0cbf2bfe225b",
   "metadata": {},
   "outputs": [
    {
     "name": "stdout",
     "output_type": "stream",
     "text": [
      "Project 1 IRR: 22.94%\n",
      "Project 2 IRR: 26.89%\n",
      "Project 1 NPV: 302744.98\n",
      "Project 2 NPV: 231228.39\n",
      "Project 1 EAA: 62872.2\n",
      "Project 2 EAA: 52120.61\n"
     ]
    }
   ],
   "source": [
    "# Comparing projects with different lifespan\n",
    "\n",
    "# Create a numpy array of cash flows for Project 1\n",
    "cf_project_1 = np.array([-700, 100, 150, 200, 250, 300, 350, 400])\n",
    "\n",
    "# Create a numpy array of cash flows for Project 2\n",
    "cf_project_2 = np.array([-400, 50, 100, 150, 200, 250, 300])\n",
    "\n",
    "# Scale the original objects by 1000x\n",
    "cf_project1 = cf_project_1 * 1000\n",
    "cf_project2 = cf_project_2 * 1000\n",
    "\n",
    "# Calculate the IRR for Project 1\n",
    "irr_project1 = np.irr(cf_project1)\n",
    "print(\"Project 1 IRR: \" + str(round(100*irr_project1, 2)) + \"%\")\n",
    "\n",
    "# Calculate the IRR for Project 2\n",
    "irr_project2 = np.irr(cf_project2)\n",
    "print(\"Project 2 IRR: \" + str(round(100*irr_project2, 2)) + \"%\")\n",
    "\n",
    "# Set the wacc equal to 12.9%\n",
    "wacc = 0.129\n",
    "\n",
    "# Calculate the NPV for Project 1\n",
    "npv_project1 = np.npv(wacc, cf_project1)\n",
    "print(\"Project 1 NPV: \" + str(round(npv_project1, 2)))\n",
    "\n",
    "# Calculate the NPV for Project 2\n",
    "npv_project2 = np.npv(wacc, cf_project2)\n",
    "print(\"Project 2 NPV: \" + str(round(npv_project2, 2)))\n",
    "\n",
    "# Calculate the EAA for Project 1\n",
    "eaa_project1 = np.pmt(rate=wacc, nper=8, pv=-1*npv_project1, fv=0)\n",
    "print(\"Project 1 EAA: \" + str(round(eaa_project1, 2)))\n",
    "\n",
    "# Calculate the EAA for Project 2\n",
    "eaa_project2 = np.pmt(rate=wacc, nper=7, pv=-1*npv_project2, fv=0)\n",
    "print(\"Project 2 EAA: \" + str(round(eaa_project2, 2)))\n"
   ]
  },
  {
   "cell_type": "code",
   "execution_count": 19,
   "id": "ab8a02f5-47e8-4031-bf92-2b01a2a9075f",
   "metadata": {},
   "outputs": [],
   "source": [
    "###################################################################################"
   ]
  },
  {
   "cell_type": "code",
   "execution_count": 20,
   "id": "f7677118-29a9-4cee-b801-23e788361bf9",
   "metadata": {},
   "outputs": [
    {
     "name": "stdout",
     "output_type": "stream",
     "text": [
      "Initial Down Payment: 160000.0\n",
      "Mortgage Loan: 640000.0\n"
     ]
    }
   ],
   "source": [
    "# Set the value of the home you are looking to buy\n",
    "home_value = 800000\n",
    "\n",
    "# What percentage are you paying up-front?\n",
    "down_payment_percent = 0.2\n",
    "\n",
    "# Calculate the dollar value of the down payment\n",
    "down_payment = home_value * down_payment_percent\n",
    "print(\"Initial Down Payment: \" + str(down_payment))\n",
    "\n",
    "# Calculate the value of the mortgage loan required after the down payment\n",
    "mortgage_loan = home_value - down_payment\n",
    "print(\"Mortgage Loan: \" + str(mortgage_loan))"
   ]
  },
  {
   "cell_type": "code",
   "execution_count": 21,
   "id": "20e8e779-ad04-430d-92e5-0b0aacb86c25",
   "metadata": {},
   "outputs": [
    {
     "name": "stdout",
     "output_type": "stream",
     "text": [
      "Monthly Mortgage Payment: 2941.13\n"
     ]
    }
   ],
   "source": [
    "mortgage_rate = 0.0375\n",
    "\n",
    "# Derive the equivalent monthly mortgage rate from the annual rate\n",
    "mortgage_rate_periodic = (1 + mortgage_rate) ** (1/12) - 1\n",
    "\n",
    "# How many monthly payment periods will there be over 30 years?\n",
    "mortgage_payment_periods = 30 * 12\n",
    "\n",
    "# Calculate the monthly mortgage payment (multiply by -1 to keep it positive)\n",
    "periodic_mortgage_payment = -1*np.pmt(mortgage_rate_periodic, mortgage_payment_periods, mortgage_loan)\n",
    "print(\"Monthly Mortgage Payment: \" + str(round(periodic_mortgage_payment, 2)))"
   ]
  },
  {
   "cell_type": "code",
   "execution_count": 22,
   "id": "5750b52b-b9c7-4617-a3b9-ef301198dccc",
   "metadata": {},
   "outputs": [
    {
     "name": "stdout",
     "output_type": "stream",
     "text": [
      "Initial Interest Payment: 1966.43\n",
      "Initial Principal Payment: 974.7\n"
     ]
    }
   ],
   "source": [
    "# Calculate the amount of the first loan payment that will go towards interest\n",
    "initial_interest_payment = mortgage_loan * mortgage_rate_periodic\n",
    "print(\"Initial Interest Payment: \" + str(round(initial_interest_payment, 2)))\n",
    "\n",
    "# Calculate the amount of the first loan payment that will go towards principal\n",
    "initial_principal_payment = periodic_mortgage_payment - initial_interest_payment\n",
    "print(\"Initial Principal Payment: \" + str(round(initial_principal_payment, 2)))"
   ]
  },
  {
   "cell_type": "code",
   "execution_count": 23,
   "id": "d60753ae-2ab9-4cf7-a33d-6e30115b6fda",
   "metadata": {},
   "outputs": [],
   "source": [
    "def print_payments(i, interest_payment, principal_payment, principal_remaining):\n",
    "    if i <= 5:\n",
    "        print(\"Period \" + str(i) + \": \" + \"Interest Paid: \" + str(interest_payment) +  \n",
    "              \" | Principal Paid: \" + str(principal_payment) + \" | Remaining Balance: \" + \n",
    "              str(principal_remaining[i]))"
   ]
  },
  {
   "cell_type": "code",
   "execution_count": 24,
   "id": "096804b7-76aa-44a9-892d-426a08819bae",
   "metadata": {},
   "outputs": [
    {
     "name": "stdout",
     "output_type": "stream",
     "text": [
      "Period 0: Interest Paid: 1966.43 | Principal Paid: 974.7 | Remaining Balance: 639025.3\n",
      "Period 1: Interest Paid: 1963.43 | Principal Paid: 977.7 | Remaining Balance: 638047.6000000001\n",
      "Period 2: Interest Paid: 1960.43 | Principal Paid: 980.7 | Remaining Balance: 637066.9000000001\n",
      "Period 3: Interest Paid: 1957.41 | Principal Paid: 983.72 | Remaining Balance: 636083.1800000002\n",
      "Period 4: Interest Paid: 1954.39 | Principal Paid: 986.74 | Remaining Balance: 635096.4400000002\n",
      "Period 5: Interest Paid: 1951.36 | Principal Paid: 989.77 | Remaining Balance: 634106.6700000002\n"
     ]
    }
   ],
   "source": [
    "principal_remaining = np.zeros(mortgage_payment_periods)\n",
    "\n",
    "# Loop through each mortgage payment period\n",
    "for i in range(0, mortgage_payment_periods):\n",
    "    \n",
    "    # Handle the case for the first iteration\n",
    "    if i == 0:\n",
    "        previous_principal_remaining = mortgage_loan\n",
    "    else:\n",
    "        previous_principal_remaining = principal_remaining[i-1]\n",
    "        \n",
    "    # Calculate the interest and principal payments\n",
    "    interest_payment = round(previous_principal_remaining*mortgage_rate_periodic, 2)\n",
    "    principal_payment = round(periodic_mortgage_payment-interest_payment, 2)\n",
    "    \n",
    "    # Catch the case where all principal is paid off in the final period\n",
    "    if previous_principal_remaining - principal_payment < 0:\n",
    "        principal_payment = previous_principal_remaining\n",
    "        \n",
    "    # Collect the principal remaining values in an array\n",
    "    principal_remaining[i] = previous_principal_remaining - principal_payment\n",
    "    \n",
    "    # Print the payments for the first few periods\n",
    "    print_payments(i, interest_payment, principal_payment, principal_remaining)\n",
    "\n"
   ]
  },
  {
   "cell_type": "code",
   "execution_count": 25,
   "id": "b0857052-9dee-45b9-813c-4ccf6744ee0b",
   "metadata": {},
   "outputs": [
    {
     "data": {
      "image/png": "[encoded data removed]",
      "text/plain": [
       "<Figure size 432x288 with 1 Axes>"
      ]
     },
     "metadata": {
      "needs_background": "light"
     },
     "output_type": "display_data"
    }
   ],
   "source": [
    "import matplotlib.pyplot as plt\n",
    "\n",
    "interest_paid = np.zeros(mortgage_payment_periods)\n",
    "principal_paid = np.zeros(mortgage_payment_periods)\n",
    "\n",
    "# Loop through each mortgage payment period\n",
    "for i in range(0, mortgage_payment_periods):\n",
    "    \n",
    "    # Handle the case for the first iteration\n",
    "    if i == 0:\n",
    "        previous_principal_remaining = mortgage_loan\n",
    "    else:\n",
    "        previous_principal_remaining = principal_remaining[i-1]\n",
    "        \n",
    "    # Calculate the interest based on the previous principal\n",
    "    interest_payment = round(previous_principal_remaining*mortgage_rate_periodic, 2)\n",
    "    principal_payment = round(periodic_mortgage_payment - interest_payment, 2)\n",
    "    \n",
    "    # Catch the case where all principal is paid off in the final period\n",
    "    if previous_principal_remaining - principal_payment < 0:\n",
    "        principal_payment = previous_principal_remaining\n",
    "        \n",
    "    # Collect the historical values\n",
    "    interest_paid[i] = interest_payment\n",
    "    principal_paid[i] = principal_payment\n",
    "    principal_remaining[i] = previous_principal_remaining - principal_payment\n",
    "    \n",
    "# Plot the interest vs principal\n",
    "plt.plot(interest_paid, color=\"red\")\n",
    "plt.plot(principal_paid, color=\"blue\")\n",
    "plt.legend(labels=[\"Interest\", \"Principal\"], loc=2)\n",
    "plt.show()"
   ]
  },
  {
   "cell_type": "code",
   "execution_count": 26,
   "id": "e704eee9-1a5f-4166-a565-7c969bfe95ac",
   "metadata": {},
   "outputs": [
    {
     "data": {
      "image/png": "[encoded data removed]",
      "text/plain": [
       "<Figure size 432x288 with 1 Axes>"
      ]
     },
     "metadata": {
      "needs_background": "light"
     },
     "output_type": "display_data"
    }
   ],
   "source": [
    "# Calculate the cumulative home equity (principal) over time\n",
    "cumulative_home_equity = np.cumsum(principal_paid)\n",
    "\n",
    "# Calculate the cumulative interest paid over time\n",
    "cumulative_interest_paid = np.cumsum(interest_paid)\n",
    "\n",
    "# Calculate your percentage home equity over time\n",
    "cumulative_percent_owned = down_payment_percent + (cumulative_home_equity/home_value)\n",
    "#print(cumulative_percent_owned)\n",
    "\n",
    "# Plot the cumulative interest paid vs equity accumulated\n",
    "plt.plot(cumulative_interest_paid, color='red')\n",
    "plt.plot(cumulative_home_equity, color='blue')\n",
    "plt.legend(labels=[\"Interest\", \"Principal\"], loc=2)\n",
    "plt.show()"
   ]
  },
  {
   "cell_type": "code",
   "execution_count": 27,
   "id": "cac43451-b68d-4e79-afa1-e47143fd6111",
   "metadata": {},
   "outputs": [
    {
     "data": {
      "image/png": "[encoded data removed]",
      "text/plain": [
       "<Figure size 432x288 with 1 Axes>"
      ]
     },
     "metadata": {
      "needs_background": "light"
     },
     "output_type": "display_data"
    }
   ],
   "source": [
    "# hypotetical market growth\n",
    "growth_array = np.array([0.0025] * mortgage_payment_periods)\n",
    "\n",
    "# Calculate the cumulative growth over time\n",
    "cumulative_growth_forecast = np.cumprod(growth_array + 1)\n",
    "\n",
    "# Forecast the home value over time\n",
    "home_value_forecast = home_value * cumulative_growth_forecast\n",
    "\n",
    "# Forecast the home equity value owned over time\n",
    "cumulative_home_value_owned = cumulative_percent_owned * home_value_forecast\n",
    "\n",
    "# Plot the home value vs equity accumulated\n",
    "plt.plot(home_value_forecast, color='red')\n",
    "plt.plot(cumulative_home_value_owned, color='blue')\n",
    "plt.legend(labels=[\"Home value\", \"Home equity\"], loc=2)\n",
    "plt.show()\n",
    "                        "
   ]
  },
  {
   "cell_type": "code",
   "execution_count": 28,
   "id": "a3e4e2ec-418d-4e9d-b584-01f6f35ef994",
   "metadata": {},
   "outputs": [
    {
     "data": {
      "image/png": "[encoded data removed]",
      "text/plain": [
       "<Figure size 432x288 with 1 Axes>"
      ]
     },
     "metadata": {
      "needs_background": "light"
     },
     "output_type": "display_data"
    }
   ],
   "source": [
    "import pandas as pd\n",
    "# hypotetical market fall\n",
    "decline_array = np.array([-0.0045] * mortgage_payment_periods)\n",
    "\n",
    "# Cumulative drop in home value over time as a ratio\n",
    "cumulative_decline_forecast = np.cumprod(1+decline_array)\n",
    "\n",
    "# Forecast the home value over time\n",
    "home_value_forecast = home_value*cumulative_decline_forecast\n",
    "\n",
    "# Find all periods where your mortgage is underwater\n",
    "underwater = principal_remaining > home_value_forecast\n",
    "pd.value_counts(underwater)\n",
    "\n",
    "# Plot the home value vs principal remaining\n",
    "plt.plot(home_value_forecast, color='red')\n",
    "plt.plot(principal_remaining, color='blue')\n",
    "plt.legend(labels=[\"Home value\", \"Principal remaining\"], loc=2)\n",
    "plt.show()"
   ]
  },
  {
   "cell_type": "code",
   "execution_count": 29,
   "id": "af17396a-af5c-4d69-a6d2-6776a7d7f2cd",
   "metadata": {},
   "outputs": [],
   "source": [
    "#########################################################################"
   ]
  },
  {
   "cell_type": "code",
   "execution_count": 30,
   "id": "8873dbc1-37f2-4b4a-a095-40a747ba61b1",
   "metadata": {},
   "outputs": [
    {
     "name": "stdout",
     "output_type": "stream",
     "text": [
      "Salary after taxes: 59500.0\n",
      "Monthly takehome salary: 4958.33\n"
     ]
    }
   ],
   "source": [
    "# Enter your annual salary\n",
    "salary = 85000\n",
    "\n",
    "# Assume a tax rate of 30%\n",
    "tax_rate = 0.3\n",
    "\n",
    "# Calculate your salary after taxes\n",
    "salary_after_taxes = salary * (1 - tax_rate)\n",
    "print(\"Salary after taxes: \" + str(round(salary_after_taxes, 2)))\n",
    "\n",
    "# Calculate your monthly salary after taxes\n",
    "monthly_takehome_salary = salary_after_taxes / 12\n",
    "print(\"Monthly takehome salary: \" + str(round(monthly_takehome_salary, 2)))"
   ]
  },
  {
   "cell_type": "code",
   "execution_count": 32,
   "id": "8fa0d957-b6e1-4100-a75c-ee21a38f7bbe",
   "metadata": {},
   "outputs": [
    {
     "name": "stdout",
     "output_type": "stream",
     "text": [
      "Monthly expenses: 2550\n",
      "Monthly savings: 2408.33\n"
     ]
    }
   ],
   "source": [
    "# Enter your monthly rent\n",
    "monthly_rent = 1200\n",
    "\n",
    "# Enter your daily food budget\n",
    "daily_food_budget = 30\n",
    "\n",
    "# Calculate your monthly food budget assuming 30 days per month\n",
    "monthly_food_budget = daily_food_budget * 30\n",
    "\n",
    "# Set your monthly entertainment budget\n",
    "monthly_entertainment_budget = 200\n",
    "\n",
    "# Allocate funds for unforeseen expenses, just in case\n",
    "monthly_unforeseen_expenses = 250\n",
    "\n",
    "# Next, calculate your total monthly expenses\n",
    "monthly_expenses = monthly_rent + monthly_food_budget + monthly_entertainment_budget + monthly_unforeseen_expenses\n",
    "print(\"Monthly expenses: \" + str(round(monthly_expenses, 2)))\n",
    "\n",
    "# Finally, calculate your monthly take-home savings\n",
    "monthly_savings = monthly_takehome_salary - monthly_expenses\n",
    "print(\"Monthly savings: \" + str(round(monthly_savings, 2)))"
   ]
  },
  {
   "cell_type": "code",
   "execution_count": 33,
   "id": "c0f8132d-5621-4850-93d9-114756c2fb28",
   "metadata": {},
   "outputs": [
    {
     "data": {
      "image/png": "[encoded data removed]",
      "text/plain": [
       "<Figure size 432x288 with 1 Axes>"
      ]
     },
     "metadata": {
      "needs_background": "light"
     },
     "output_type": "display_data"
    }
   ],
   "source": [
    "# Create monthly forecasts up to 15 years from now\n",
    "forecast_months = 12*15\n",
    "\n",
    "# Set your annual salary growth rate\n",
    "annual_salary_growth = 0.05\n",
    "\n",
    "# Calculate your equivalent monthly salary growth rate\n",
    "monthly_salary_growth = (1+annual_salary_growth) ** (1/12) -1 \n",
    "\n",
    "# Forecast the cumulative growth of your salary\n",
    "cumulative_salary_growth_forecast = np.cumprod(np.repeat(1 + monthly_salary_growth, forecast_months))\n",
    "\n",
    "# Calculate the actual salary forecast\n",
    "salary_forecast = cumulative_salary_growth_forecast * monthly_takehome_salary\n",
    "\n",
    "# Plot the forecasted salary\n",
    "plt.plot(salary_forecast, color='blue')\n",
    "plt.show()"
   ]
  },
  {
   "cell_type": "code",
   "execution_count": 34,
   "id": "d11f908c-fa0e-4558-8374-6d900924c922",
   "metadata": {},
   "outputs": [
    {
     "data": {
      "image/png": "[encoded data removed]",
      "text/plain": [
       "<Figure size 432x288 with 1 Axes>"
      ]
     },
     "metadata": {
      "needs_background": "light"
     },
     "output_type": "display_data"
    }
   ],
   "source": [
    "# Set the annual inflation rate\n",
    "annual_inflation = 0.025\n",
    "\n",
    "# Calculate the equivalent monthly inflation rate\n",
    "monthly_inflation = (1 + annual_inflation) ** (1/12) -1\n",
    "\n",
    "# Forecast cumulative inflation over time\n",
    "cumulative_inflation_forecast = np.cumprod(np.repeat(1 + monthly_inflation, forecast_months))\n",
    "\n",
    "# Calculate your forecasted expenses\n",
    "expenses_forecast = cumulative_inflation_forecast * monthly_expenses\n",
    "\n",
    "# Plot the forecasted expenses\n",
    "plt.plot(expenses_forecast, color='red')\n",
    "plt.show()"
   ]
  },
  {
   "cell_type": "code",
   "execution_count": 35,
   "id": "6b15e031-4c64-43cd-afb8-6e1dd6e8e313",
   "metadata": {},
   "outputs": [
    {
     "name": "stdout",
     "output_type": "stream",
     "text": [
      "Your final net worth: 762318.83\n"
     ]
    },
    {
     "data": {
      "image/png": "[encoded data removed]",
      "text/plain": [
       "<Figure size 432x288 with 1 Axes>"
      ]
     },
     "metadata": {
      "needs_background": "light"
     },
     "output_type": "display_data"
    }
   ],
   "source": [
    "# Calculate your savings for each month\n",
    "savings_forecast = salary_forecast - expenses_forecast\n",
    "\n",
    "# Calculate your cumulative savings over time\n",
    "cumulative_savings = np.cumsum(savings_forecast)\n",
    "\n",
    "# Print the final cumulative savings after 15 years\n",
    "final_net_worth = cumulative_savings[-1]\n",
    "print(\"Your final net worth: \" + str(round(final_net_worth, 2)))\n",
    "\n",
    "# Plot the forecasted savings\n",
    "plt.plot(cumulative_savings, color='blue')\n",
    "plt.show()"
   ]
  },
  {
   "cell_type": "code",
   "execution_count": 36,
   "id": "3e13ed6b-0d6f-4a84-a609-36ec885425c6",
   "metadata": {},
   "outputs": [
    {
     "name": "stdout",
     "output_type": "stream",
     "text": [
      "You will have to invest $3214.35 per month to amass $1M over 15 years\n"
     ]
    }
   ],
   "source": [
    "# Set the annual investment return to 7%\n",
    "investment_rate_annual = 0.07\n",
    "\n",
    "# Calculate the monthly investment return\n",
    "investment_rate_monthly = (1+investment_rate_annual)**(1/12) - 1\n",
    "\n",
    "# Calculate your required monthly investment to amass $1M\n",
    "required_investment_monthly = np.pmt(rate=investment_rate_monthly, nper=forecast_months, pv=0, fv=-1000000)\n",
    "print(\"You will have to invest $\" + str(round(required_investment_monthly, 2)) + \" per month to amass $1M over 15 years\")"
   ]
  },
  {
   "cell_type": "code",
   "execution_count": 41,
   "id": "51db2908-f146-4af8-9d40-65081a6b9810",
   "metadata": {},
   "outputs": [
    {
     "data": {
      "image/png": "[encoded data removed]",
      "text/plain": [
       "<Figure size 432x288 with 1 Axes>"
      ]
     },
     "metadata": {
      "needs_background": "light"
     },
     "output_type": "display_data"
    }
   ],
   "source": [
    "cash_flow_forecast = savings_forecast\n",
    "monthly_investment_percentage = 0.3\n",
    "\n",
    "# Calculate your monthly deposit into your investment account\n",
    "investment_deposit_forecast = cash_flow_forecast * monthly_investment_percentage\n",
    "\n",
    "# The rest goes into your savings account\n",
    "savings_forecast_new = cash_flow_forecast * (1 - monthly_investment_percentage)\n",
    "\n",
    "# Calculate your cumulative savings over time\n",
    "cumulative_savings_new = np.cumsum(savings_forecast_new)\n",
    "\n",
    "# Plot your forecasted monthly savings vs investments\n",
    "plt.plot(investment_deposit_forecast, color='red')\n",
    "plt.plot(savings_forecast_new, color='blue')\n",
    "plt.legend(labels=[\"Investments\", \"Savings\"], loc=2)\n",
    "plt.show()"
   ]
  },
  {
   "cell_type": "code",
   "execution_count": 43,
   "id": "9f3f8f03-4348-495e-8fb1-d36bd9705b98",
   "metadata": {},
   "outputs": [],
   "source": [
    "def plot_investments(investment_portfolio, cumulative_savings_new, net_worth):\n",
    "  \tplt.plot(investment_portfolio, color='red')\n",
    "  \tplt.plot(cumulative_savings_new, color='blue')\n",
    "  \tplt.plot(net_worth, color='green')\n",
    "  \tplt.legend(labels=[\"Investments\", \"Savings\",\"Networth\"], loc=2)\n",
    "  \tplt.show()"
   ]
  },
  {
   "cell_type": "code",
   "execution_count": 44,
   "id": "00f97967-a687-4148-962d-e9c069ad7706",
   "metadata": {},
   "outputs": [
    {
     "data": {
      "image/png": "[encoded data removed]",
      "text/plain": [
       "<Figure size 432x288 with 1 Axes>"
      ]
     },
     "metadata": {
      "needs_background": "light"
     },
     "output_type": "display_data"
    }
   ],
   "source": [
    "investment_portfolio = np.zeros(forecast_months)\n",
    "net_worth = np.zeros(forecast_months)\n",
    "\n",
    "# Loop through each forecast period\n",
    "for i in range(forecast_months):\n",
    "    \n",
    "    # Find the previous investment deposit amount\n",
    "    if i == 0: \n",
    "        previous_investment = 0\n",
    "    else:\n",
    "        previous_investment = investment_portfolio[i-1]\n",
    "        \n",
    "    # Calculate the value of your previous investments, which have grown\n",
    "    previous_investment_growth = previous_investment*(1 + investment_rate_monthly)\n",
    "    \n",
    "    # Add your new deposit to your investment portfolio\n",
    "    investment_portfolio[i] =  previous_investment_growth + investment_deposit_forecast[i]\n",
    "    \n",
    "    # Calculate your net worth at each point in time\n",
    "    net_worth[i] = cumulative_savings_new[i] + investment_portfolio[i]\n",
    "# Plot your forecasted cumulative savings vs investments and net worth\n",
    "plot_investments(investment_portfolio, cumulative_savings_new, net_worth)"
   ]
  }
 ],
 "metadata": {
  "kernelspec": {
   "display_name": "Python 3 (ipykernel)",
   "language": "python",
   "name": "python3"
  },
  "language_info": {
   "codemirror_mode": {
    "name": "ipython",
    "version": 3
   },
   "file_extension": ".py",
   "mimetype": "text/x-python",
   "name": "python",
   "nbconvert_exporter": "python",
   "pygments_lexer": "ipython3",
   "version": "3.7.11"
  }
 },
 "nbformat": 4,
 "nbformat_minor": 5
}
